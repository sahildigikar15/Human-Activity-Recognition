{
 "cells": [
  {
   "cell_type": "code",
   "execution_count": 1,
   "metadata": {
    "colab": {
     "base_uri": "https://localhost:8080/",
     "height": 128
    },
    "colab_type": "code",
    "id": "uFVh9_ZJlBgl",
    "outputId": "0631d529-8107-427c-a2a0-84e222c91281"
   },
   "outputs": [
    {
     "name": "stdout",
     "output_type": "stream",
     "text": [
      "Go to this URL in a browser: https://accounts.google.com/o/oauth2/auth?client_id=947318989803-6bn6qk8qdgf4n4g3pfee6491hc0brc4i.apps.googleusercontent.com&redirect_uri=urn%3Aietf%3Awg%3Aoauth%3A2.0%3Aoob&scope=email%20https%3A%2F%2Fwww.googleapis.com%2Fauth%2Fdocs.test%20https%3A%2F%2Fwww.googleapis.com%2Fauth%2Fdrive%20https%3A%2F%2Fwww.googleapis.com%2Fauth%2Fdrive.photos.readonly%20https%3A%2F%2Fwww.googleapis.com%2Fauth%2Fpeopleapi.readonly&response_type=code\n",
      "\n",
      "Enter your authorization code:\n",
      "··········\n",
      "Mounted at /content/drive\n"
     ]
    }
   ],
   "source": [
    "from google.colab import drive\n",
    "drive.mount('/content/drive')"
   ]
  },
  {
   "cell_type": "code",
   "execution_count": 1,
   "metadata": {
    "colab": {
     "base_uri": "https://localhost:8080/",
     "height": 237
    },
    "colab_type": "code",
    "id": "QckIpHBHlOeE",
    "outputId": "f3616a35-2f53-499a-ed16-fb360ee3030c"
   },
   "outputs": [
    {
     "name": "stdout",
     "output_type": "stream",
     "text": [
      "--2019-10-09 15:39:16--  https://doc-0g-1c-docs.googleusercontent.com/docs/securesc/kouh0dj93pg8socn3771nf3vuerbu0d0/dtatf3bluig156nbb4kh141ijavhrl4k/1570622400000/06629147635963609455/03405128463857276630/118toouH8ifByKJHmmowyjOjGyir-YAvi?e=download&nonce=lso5nj17iomt0&user=03405128463857276630&hash=o1fj6a2ei6p790m4piveuon7de0hf83h\n",
      "Resolving doc-0g-1c-docs.googleusercontent.com (doc-0g-1c-docs.googleusercontent.com)... 64.233.189.132, 2404:6800:4008:c07::84\n",
      "Connecting to doc-0g-1c-docs.googleusercontent.com (doc-0g-1c-docs.googleusercontent.com)|64.233.189.132|:443... connected.\n",
      "HTTP request sent, awaiting response... 200 OK\n",
      "Length: unspecified [application/zip]\n",
      "Saving to: ‘HumanActivityRecognition.zip’\n",
      "\n",
      "HumanActivityRecogn     [     <=>            ]  85.62M  40.8MB/s    in 2.1s    \n",
      "\n",
      "2019-10-09 15:39:24 (40.8 MB/s) - ‘HumanActivityRecognition.zip’ saved [89781419]\n",
      "\n"
     ]
    }
   ],
   "source": [
    "! wget --header=\"Host: doc-0g-1c-docs.googleusercontent.com\" --header=\"User-Agent: Mozilla/5.0 (Windows NT 10.0; Win64; x64) AppleWebKit/537.36 (KHTML, like Gecko) Chrome/77.0.3865.90 Safari/537.36\" --header=\"Accept: text/html,application/xhtml+xml,application/xml;q=0.9,image/webp,image/apng,*/*;q=0.8,application/signed-exchange;v=b3\" --header=\"Accept-Language: en-US,en;q=0.9\" --header=\"Referer: https://drive.google.com/uc?id=118toouH8ifByKJHmmowyjOjGyir-YAvi&export=download\" --header=\"Cookie: AUTH_n6vvpd2r87sjptk2jgbojkp7vbjvha1u_nonce=lso5nj17iomt0; NID=188=KiK_PV1aFtP2hQjMMdFB0G1BWOB_X7cDs3ISbqXmR0k3i5e7-5_fjFcc04BrYkdXsZRmuhlfOTmqeMs84shX5QWqttGVwPdvx8bameIr3ZSY2nWhgLYh0dNq2l0eG6oTKcmqqq7o8G1kxCnVFExImcu2NhJqoF1VUjg45eluHUw; _gcl_au=1.1.995756861.1564817201; _ga=GA1.2.1707750036.1564817201\" --header=\"Connection: keep-alive\" \"https://doc-0g-1c-docs.googleusercontent.com/docs/securesc/kouh0dj93pg8socn3771nf3vuerbu0d0/dtatf3bluig156nbb4kh141ijavhrl4k/1570622400000/06629147635963609455/03405128463857276630/118toouH8ifByKJHmmowyjOjGyir-YAvi?e=download&nonce=lso5nj17iomt0&user=03405128463857276630&hash=o1fj6a2ei6p790m4piveuon7de0hf83h\" -O \"HumanActivityRecognition.zip\" -c"
   ]
  },
  {
   "cell_type": "code",
   "execution_count": 2,
   "metadata": {
    "colab": {
     "base_uri": "https://localhost:8080/",
     "height": 1000
    },
    "colab_type": "code",
    "id": "5MGrbEjvnlsj",
    "outputId": "eb26fffb-1d50-4274-f6c4-38b154425c87"
   },
   "outputs": [
    {
     "name": "stdout",
     "output_type": "stream",
     "text": [
      "Archive:  HumanActivityRecognition.zip\n",
      "   creating: HAR/\n",
      "  inflating: HAR/.DS_Store           \n",
      "   creating: __MACOSX/\n",
      "   creating: __MACOSX/HAR/\n",
      "  inflating: __MACOSX/HAR/._.DS_Store  \n",
      "   creating: HAR/.ipynb_checkpoints/\n",
      "  inflating: HAR/.ipynb_checkpoints/HAR_EDA-checkpoint.ipynb  \n",
      "  inflating: HAR/.ipynb_checkpoints/HAR_LSTM-checkpoint.ipynb  \n",
      "  inflating: HAR/.ipynb_checkpoints/HAR_LSTM_1-checkpoint.ipynb  \n",
      "  inflating: HAR/.ipynb_checkpoints/HAR_PREDICTION_MODELS-checkpoint.ipynb  \n",
      "  inflating: HAR/HAR_EDA.ipynb       \n",
      "  inflating: __MACOSX/HAR/._HAR_EDA.ipynb  \n",
      "  inflating: HAR/HAR_LSTM.ipynb      \n",
      "  inflating: __MACOSX/HAR/._HAR_LSTM.ipynb  \n",
      "  inflating: HAR/HAR_PREDICTION_MODELS.ipynb  \n",
      "  inflating: __MACOSX/HAR/._HAR_PREDICTION_MODELS.ipynb  \n",
      "  inflating: HAR/t-sne_perp_10_iter_1000.png  \n",
      "  inflating: __MACOSX/HAR/._t-sne_perp_10_iter_1000.png  \n",
      "  inflating: HAR/t-sne_perp_20_iter_1000.png  \n",
      "  inflating: __MACOSX/HAR/._t-sne_perp_20_iter_1000.png  \n",
      "  inflating: HAR/t-sne_perp_2_iter_1000.png  \n",
      "  inflating: __MACOSX/HAR/._t-sne_perp_2_iter_1000.png  \n",
      "  inflating: HAR/t-sne_perp_50_iter_1000.png  \n",
      "  inflating: __MACOSX/HAR/._t-sne_perp_50_iter_1000.png  \n",
      "  inflating: HAR/t-sne_perp_5_iter_1000.png  \n",
      "  inflating: __MACOSX/HAR/._t-sne_perp_5_iter_1000.png  \n",
      "   creating: HAR/UCI_HAR_Dataset/\n",
      "  inflating: HAR/UCI_HAR_Dataset/.DS_Store  \n",
      "   creating: __MACOSX/HAR/UCI_HAR_Dataset/\n",
      "  inflating: __MACOSX/HAR/UCI_HAR_Dataset/._.DS_Store  \n",
      "  inflating: HAR/UCI_HAR_Dataset/_DS_Store  \n",
      "  inflating: __MACOSX/HAR/UCI_HAR_Dataset/.__DS_Store  \n",
      "  inflating: HAR/UCI_HAR_Dataset/activity_labels.txt  \n",
      "  inflating: __MACOSX/HAR/UCI_HAR_Dataset/._activity_labels.txt  \n",
      "   creating: HAR/UCI_HAR_Dataset/csv_files/\n",
      "  inflating: HAR/UCI_HAR_Dataset/csv_files/test.csv  \n",
      "   creating: __MACOSX/HAR/UCI_HAR_Dataset/csv_files/\n",
      "  inflating: __MACOSX/HAR/UCI_HAR_Dataset/csv_files/._test.csv  \n",
      "  inflating: HAR/UCI_HAR_Dataset/csv_files/train.csv  \n",
      "  inflating: __MACOSX/HAR/UCI_HAR_Dataset/csv_files/._train.csv  \n",
      "  inflating: HAR/UCI_HAR_Dataset/features.txt  \n",
      "  inflating: __MACOSX/HAR/UCI_HAR_Dataset/._features.txt  \n",
      "  inflating: HAR/UCI_HAR_Dataset/features_info.txt  \n",
      "  inflating: __MACOSX/HAR/UCI_HAR_Dataset/._features_info.txt  \n",
      "  inflating: HAR/UCI_HAR_Dataset/README.txt  \n",
      "  inflating: __MACOSX/HAR/UCI_HAR_Dataset/._README.txt  \n",
      "   creating: HAR/UCI_HAR_Dataset/test/\n",
      "   creating: HAR/UCI_HAR_Dataset/test/Inertial Signals/\n",
      "  inflating: HAR/UCI_HAR_Dataset/test/Inertial Signals/body_acc_x_test.txt  \n",
      "   creating: __MACOSX/HAR/UCI_HAR_Dataset/test/\n",
      "   creating: __MACOSX/HAR/UCI_HAR_Dataset/test/Inertial Signals/\n",
      "  inflating: __MACOSX/HAR/UCI_HAR_Dataset/test/Inertial Signals/._body_acc_x_test.txt  \n",
      "  inflating: HAR/UCI_HAR_Dataset/test/Inertial Signals/body_acc_y_test.txt  \n",
      "  inflating: __MACOSX/HAR/UCI_HAR_Dataset/test/Inertial Signals/._body_acc_y_test.txt  \n",
      "  inflating: HAR/UCI_HAR_Dataset/test/Inertial Signals/body_acc_z_test.txt  \n",
      "  inflating: __MACOSX/HAR/UCI_HAR_Dataset/test/Inertial Signals/._body_acc_z_test.txt  \n",
      "  inflating: HAR/UCI_HAR_Dataset/test/Inertial Signals/body_gyro_x_test.txt  \n",
      "  inflating: __MACOSX/HAR/UCI_HAR_Dataset/test/Inertial Signals/._body_gyro_x_test.txt  \n",
      "  inflating: HAR/UCI_HAR_Dataset/test/Inertial Signals/body_gyro_y_test.txt  \n",
      "  inflating: __MACOSX/HAR/UCI_HAR_Dataset/test/Inertial Signals/._body_gyro_y_test.txt  \n",
      "  inflating: HAR/UCI_HAR_Dataset/test/Inertial Signals/body_gyro_z_test.txt  \n",
      "  inflating: __MACOSX/HAR/UCI_HAR_Dataset/test/Inertial Signals/._body_gyro_z_test.txt  \n",
      "  inflating: HAR/UCI_HAR_Dataset/test/Inertial Signals/total_acc_x_test.txt  \n",
      "  inflating: __MACOSX/HAR/UCI_HAR_Dataset/test/Inertial Signals/._total_acc_x_test.txt  \n",
      "  inflating: HAR/UCI_HAR_Dataset/test/Inertial Signals/total_acc_y_test.txt  \n",
      "  inflating: __MACOSX/HAR/UCI_HAR_Dataset/test/Inertial Signals/._total_acc_y_test.txt  \n",
      "  inflating: HAR/UCI_HAR_Dataset/test/Inertial Signals/total_acc_z_test.txt  \n",
      "  inflating: __MACOSX/HAR/UCI_HAR_Dataset/test/Inertial Signals/._total_acc_z_test.txt  \n",
      "  inflating: HAR/UCI_HAR_Dataset/test/subject_test.txt  \n",
      "  inflating: __MACOSX/HAR/UCI_HAR_Dataset/test/._subject_test.txt  \n",
      "  inflating: HAR/UCI_HAR_Dataset/test/X_test.txt  \n",
      "  inflating: __MACOSX/HAR/UCI_HAR_Dataset/test/._X_test.txt  \n",
      "  inflating: HAR/UCI_HAR_Dataset/test/y_test.txt  \n",
      "  inflating: __MACOSX/HAR/UCI_HAR_Dataset/test/._y_test.txt  \n",
      "   creating: HAR/UCI_HAR_Dataset/train/\n",
      "  inflating: HAR/UCI_HAR_Dataset/train/.DS_Store  \n",
      "   creating: __MACOSX/HAR/UCI_HAR_Dataset/train/\n",
      "  inflating: __MACOSX/HAR/UCI_HAR_Dataset/train/._.DS_Store  \n",
      "   creating: HAR/UCI_HAR_Dataset/train/Inertial Signals/\n",
      "  inflating: HAR/UCI_HAR_Dataset/train/Inertial Signals/body_acc_x_train.txt  \n",
      "   creating: __MACOSX/HAR/UCI_HAR_Dataset/train/Inertial Signals/\n",
      "  inflating: __MACOSX/HAR/UCI_HAR_Dataset/train/Inertial Signals/._body_acc_x_train.txt  \n",
      "  inflating: HAR/UCI_HAR_Dataset/train/Inertial Signals/body_acc_y_train.txt  \n",
      "  inflating: __MACOSX/HAR/UCI_HAR_Dataset/train/Inertial Signals/._body_acc_y_train.txt  \n",
      "  inflating: HAR/UCI_HAR_Dataset/train/Inertial Signals/body_acc_z_train.txt  \n",
      "  inflating: __MACOSX/HAR/UCI_HAR_Dataset/train/Inertial Signals/._body_acc_z_train.txt  \n",
      "  inflating: HAR/UCI_HAR_Dataset/train/Inertial Signals/body_gyro_x_train.txt  \n",
      "  inflating: __MACOSX/HAR/UCI_HAR_Dataset/train/Inertial Signals/._body_gyro_x_train.txt  \n",
      "  inflating: HAR/UCI_HAR_Dataset/train/Inertial Signals/body_gyro_y_train.txt  \n",
      "  inflating: __MACOSX/HAR/UCI_HAR_Dataset/train/Inertial Signals/._body_gyro_y_train.txt  \n",
      "  inflating: HAR/UCI_HAR_Dataset/train/Inertial Signals/body_gyro_z_train.txt  \n",
      "  inflating: __MACOSX/HAR/UCI_HAR_Dataset/train/Inertial Signals/._body_gyro_z_train.txt  \n",
      "  inflating: HAR/UCI_HAR_Dataset/train/Inertial Signals/total_acc_x_train.txt  \n",
      "  inflating: __MACOSX/HAR/UCI_HAR_Dataset/train/Inertial Signals/._total_acc_x_train.txt  \n",
      "  inflating: HAR/UCI_HAR_Dataset/train/Inertial Signals/total_acc_y_train.txt  \n",
      "  inflating: __MACOSX/HAR/UCI_HAR_Dataset/train/Inertial Signals/._total_acc_y_train.txt  \n",
      "  inflating: HAR/UCI_HAR_Dataset/train/Inertial Signals/total_acc_z_train.txt  \n",
      "  inflating: __MACOSX/HAR/UCI_HAR_Dataset/train/Inertial Signals/._total_acc_z_train.txt  \n",
      "  inflating: HAR/UCI_HAR_Dataset/train/subject_train.txt  \n",
      "  inflating: __MACOSX/HAR/UCI_HAR_Dataset/train/._subject_train.txt  \n",
      "  inflating: HAR/UCI_HAR_Dataset/train/X_train.txt  \n",
      "  inflating: __MACOSX/HAR/UCI_HAR_Dataset/train/._X_train.txt  \n",
      "  inflating: HAR/UCI_HAR_Dataset/train/y_train.txt  \n",
      "  inflating: __MACOSX/HAR/UCI_HAR_Dataset/train/._y_train.txt  \n"
     ]
    }
   ],
   "source": [
    "!unzip HumanActivityRecognition.zip "
   ]
  },
  {
   "cell_type": "code",
   "execution_count": 0,
   "metadata": {
    "colab": {},
    "colab_type": "code",
    "id": "R8yJPd2GLSmY"
   },
   "outputs": [],
   "source": [
    "import pandas as pd\n",
    "import numpy as np"
   ]
  },
  {
   "cell_type": "code",
   "execution_count": 0,
   "metadata": {
    "colab": {},
    "colab_type": "code",
    "id": "DQiMHQ8pLcBQ"
   },
   "outputs": [],
   "source": [
    "# Activities are the class labels\n",
    "# It is a 6 class classification\n",
    "ACTIVITIES = {\n",
    "    0: 'WALKING',\n",
    "    1: 'WALKING_UPSTAIRS',\n",
    "    2: 'WALKING_DOWNSTAIRS',\n",
    "    3: 'SITTING',\n",
    "    4: 'STANDING',\n",
    "    5: 'LAYING',\n",
    "}\n",
    "\n",
    "# Utility function to print the confusion matrix\n",
    "def confusion_matrix(Y_true, Y_pred):\n",
    "    Y_true = pd.Series([ACTIVITIES[y] for y in np.argmax(Y_true, axis=1)])\n",
    "    Y_pred = pd.Series([ACTIVITIES[y] for y in np.argmax(Y_pred, axis=1)])\n",
    "\n",
    "    return pd.crosstab(Y_true, Y_pred, rownames=['True'], colnames=['Pred'])"
   ]
  },
  {
   "cell_type": "code",
   "execution_count": 5,
   "metadata": {
    "colab": {
     "base_uri": "https://localhost:8080/",
     "height": 35
    },
    "colab_type": "code",
    "id": "y48xdzTjLeAM",
    "outputId": "4ae2ffad-f46a-4001-b768-8546185fc205"
   },
   "outputs": [
    {
     "name": "stderr",
     "output_type": "stream",
     "text": [
      "UsageError: Line magic function `%malplotlib` not found.\n"
     ]
    }
   ],
   "source": [
    "%malplotlib inline"
   ]
  },
  {
   "cell_type": "code",
   "execution_count": 0,
   "metadata": {
    "colab": {},
    "colab_type": "code",
    "id": "2NEivaHRLiEY"
   },
   "outputs": [],
   "source": [
    "%matplotlib notebook\n",
    "import matplotlib.pyplot as plt\n",
    "import numpy as np\n",
    "import time\n",
    "\n",
    "def plt_dynamic(x, vy, ty, ax, colors=['b']):\n",
    "    ax.plot(x, vy, 'b', label=\"Validation Loss\")\n",
    "    ax.plot(x, ty, 'r', label=\"Train Loss\")\n",
    "    plt.legend()\n",
    "    plt.grid()\n",
    "    fig.canvas.draw()"
   ]
  },
  {
   "cell_type": "markdown",
   "metadata": {
    "colab": {},
    "colab_type": "code",
    "id": "LzDMgawgLjUb"
   },
   "source": [
    "### Data"
   ]
  },
  {
   "cell_type": "code",
   "execution_count": 0,
   "metadata": {
    "colab": {},
    "colab_type": "code",
    "id": "FNq0p7qVLl7a"
   },
   "outputs": [],
   "source": [
    "DATADIR = 'UCI_HAR_Dataset'"
   ]
  },
  {
   "cell_type": "code",
   "execution_count": 0,
   "metadata": {
    "colab": {},
    "colab_type": "code",
    "id": "Jo8EOt_OLn9Y"
   },
   "outputs": [],
   "source": [
    "# Signals are from Accelerometer and Gyroscope\n",
    "# The signals are in x,y,z directions\n",
    "# Sensor signals are filtered to have only body acceleration\n",
    "# excluding the acceleration due to gravity\n",
    "# Triaxial acceleration from the accelerometer is total acceleration\n",
    "SIGNALS = [\n",
    "    \"body_acc_x\",\n",
    "    \"body_acc_y\",\n",
    "    \"body_acc_z\",\n",
    "    \"body_gyro_x\",\n",
    "    \"body_gyro_y\",\n",
    "    \"body_gyro_z\",\n",
    "    \"total_acc_x\",\n",
    "    \"total_acc_y\",\n",
    "    \"total_acc_z\"\n",
    "]"
   ]
  },
  {
   "cell_type": "code",
   "execution_count": 0,
   "metadata": {
    "colab": {},
    "colab_type": "code",
    "id": "HLen14bFLp6e"
   },
   "outputs": [],
   "source": [
    "# Utility function to read the data from csv file\n",
    "def _read_csv(filename):\n",
    "    return pd.read_csv(filename, delim_whitespace=True, header=None)\n",
    "\n",
    "# Utility function to load the load\n",
    "def load_signals(subset):\n",
    "    signals_data = []\n",
    "\n",
    "    for signal in SIGNALS:\n",
    "        filename = f'HAR/UCI_HAR_Dataset/{subset}/Inertial Signals/{signal}_{subset}.txt'\n",
    "        signals_data.append(\n",
    "            _read_csv(filename).as_matrix()\n",
    "        ) \n",
    "\n",
    "    # Transpose is used to change the dimensionality of the output,\n",
    "    # aggregating the signals by combination of sample/timestep.\n",
    "    # Resultant shape is (7352 train/2947 test samples, 128 timesteps, 9 signals)\n",
    "    return np.transpose(signals_data, (1, 2, 0))"
   ]
  },
  {
   "cell_type": "code",
   "execution_count": 0,
   "metadata": {
    "colab": {},
    "colab_type": "code",
    "id": "_HcinO_lLsOR"
   },
   "outputs": [],
   "source": [
    "def load_y(subset):\n",
    "    \"\"\"\n",
    "    The objective that we are trying to predict is a integer, from 1 to 6,\n",
    "    that represents a human activity. We return a binary representation of \n",
    "    every sample objective as a 6 bits vector using One Hot Encoding\n",
    "    (https://pandas.pydata.org/pandas-docs/stable/generated/pandas.get_dummies.html)\n",
    "    \"\"\"\n",
    "    filename = f'HAR/UCI_HAR_Dataset/{subset}/y_{subset}.txt'\n",
    "    y = _read_csv(filename)[0]\n",
    "\n",
    "    return pd.get_dummies(y).as_matrix()"
   ]
  },
  {
   "cell_type": "code",
   "execution_count": 0,
   "metadata": {
    "colab": {},
    "colab_type": "code",
    "id": "lp_KB04iLuKO"
   },
   "outputs": [],
   "source": [
    "def load_data():\n",
    "    \"\"\"\n",
    "    Obtain the dataset from multiple files.\n",
    "    Returns: X_train, X_test, y_train, y_test\n",
    "    \"\"\"\n",
    "    X_train, X_test = load_signals('train'), load_signals('test')\n",
    "    y_train, y_test = load_y('train'), load_y('test')\n",
    "\n",
    "    return X_train, X_test, y_train, y_test"
   ]
  },
  {
   "cell_type": "code",
   "execution_count": 0,
   "metadata": {
    "colab": {},
    "colab_type": "code",
    "id": "6ZP215r1LwCY"
   },
   "outputs": [],
   "source": [
    "# Importing tensorflow\n",
    "np.random.seed(42)\n",
    "import tensorflow as tf\n",
    "tf.set_random_seed(42)"
   ]
  },
  {
   "cell_type": "code",
   "execution_count": 0,
   "metadata": {
    "colab": {},
    "colab_type": "code",
    "id": "TKy-S1M-LyCE"
   },
   "outputs": [],
   "source": [
    "# Configuring a session\n",
    "session_conf = tf.ConfigProto(\n",
    "    intra_op_parallelism_threads=1,\n",
    "    inter_op_parallelism_threads=1\n",
    ")"
   ]
  },
  {
   "cell_type": "code",
   "execution_count": 14,
   "metadata": {
    "colab": {
     "base_uri": "https://localhost:8080/",
     "height": 35
    },
    "colab_type": "code",
    "id": "0vZhQShEL0J7",
    "outputId": "6aac9f99-210f-4bf6-cc7f-e67a6564831a"
   },
   "outputs": [
    {
     "name": "stderr",
     "output_type": "stream",
     "text": [
      "Using TensorFlow backend.\n"
     ]
    }
   ],
   "source": [
    "# Import Keras\n",
    "from keras import backend as K\n",
    "sess = tf.Session(graph=tf.get_default_graph(), config=session_conf)\n",
    "K.set_session(sess)"
   ]
  },
  {
   "cell_type": "code",
   "execution_count": 0,
   "metadata": {
    "colab": {},
    "colab_type": "code",
    "id": "YkDqUschL2NB"
   },
   "outputs": [],
   "source": [
    "# Importing libraries\n",
    "from keras.models import Sequential\n",
    "from keras.layers import LSTM\n",
    "from keras.layers.core import Dense, Dropout"
   ]
  },
  {
   "cell_type": "code",
   "execution_count": 0,
   "metadata": {
    "colab": {},
    "colab_type": "code",
    "id": "FAAGu6W6L4l9"
   },
   "outputs": [],
   "source": [
    "# Utility function to count the number of classes\n",
    "def _count_classes(y):\n",
    "    return len(set([tuple(category) for category in y]))"
   ]
  },
  {
   "cell_type": "code",
   "execution_count": 0,
   "metadata": {
    "colab": {},
    "colab_type": "code",
    "id": "mwiDir3OL6hP"
   },
   "outputs": [],
   "source": [
    "# Loading the train and test data\n",
    "X_train, X_test, Y_train, Y_test = load_data()"
   ]
  },
  {
   "cell_type": "code",
   "execution_count": 39,
   "metadata": {
    "colab": {
     "base_uri": "https://localhost:8080/",
     "height": 53
    },
    "colab_type": "code",
    "id": "L4kHkhV8lJwG",
    "outputId": "ad66437f-d4af-47f6-8718-de444f8f3cad"
   },
   "outputs": [
    {
     "name": "stdout",
     "output_type": "stream",
     "text": [
      "(7352, 128, 9) (7352, 6)\n",
      "(2947, 128, 9) (2947, 6)\n"
     ]
    }
   ],
   "source": [
    "print(X_train.shape, Y_train.shape)\n",
    "print(X_test.shape, Y_test.shape)"
   ]
  },
  {
   "cell_type": "code",
   "execution_count": 38,
   "metadata": {
    "colab": {
     "base_uri": "https://localhost:8080/",
     "height": 90
    },
    "colab_type": "code",
    "id": "VbqSZjjBL8cX",
    "outputId": "d18c4fda-ed9e-4359-ccc7-14c9e885e81e"
   },
   "outputs": [
    {
     "name": "stdout",
     "output_type": "stream",
     "text": [
      "128\n",
      "9\n",
      "7352\n",
      "6\n"
     ]
    }
   ],
   "source": [
    "timesteps = len(X_train[0])\n",
    "input_dim = len(X_train[0][0])\n",
    "n_classes = _count_classes(Y_train)\n",
    "\n",
    "print(timesteps)\n",
    "print(input_dim)\n",
    "print(len(X_train))\n",
    "print(n_classes)"
   ]
  },
  {
   "cell_type": "markdown",
   "metadata": {},
   "source": [
    "## USING LSTM:"
   ]
  },
  {
   "cell_type": "code",
   "execution_count": 0,
   "metadata": {
    "colab": {},
    "colab_type": "code",
    "id": "a2CFlbkUMVuK"
   },
   "outputs": [],
   "source": [
    "epochs = 30\n",
    "batch_size = 16\n",
    "n_hidden = 32"
   ]
  },
  {
   "cell_type": "code",
   "execution_count": 26,
   "metadata": {
    "colab": {
     "base_uri": "https://localhost:8080/",
     "height": 271
    },
    "colab_type": "code",
    "id": "3gx3ZYANMc6d",
    "outputId": "a04ca658-e79f-4b8a-e883-54fd7b987c2a"
   },
   "outputs": [
    {
     "name": "stdout",
     "output_type": "stream",
     "text": [
      "Model: \"sequential_2\"\n",
      "_________________________________________________________________\n",
      "Layer (type)                 Output Shape              Param #   \n",
      "=================================================================\n",
      "lstm_2 (LSTM)                (None, 32)                5376      \n",
      "_________________________________________________________________\n",
      "dropout_2 (Dropout)          (None, 32)                0         \n",
      "_________________________________________________________________\n",
      "dense_2 (Dense)              (None, 6)                 198       \n",
      "=================================================================\n",
      "Total params: 5,574\n",
      "Trainable params: 5,574\n",
      "Non-trainable params: 0\n",
      "_________________________________________________________________\n"
     ]
    }
   ],
   "source": [
    "def warn(*args, **kwargs):\n",
    "    pass\n",
    "import warnings\n",
    "warnings.warn = warn\n",
    "\n",
    "\n",
    "\n",
    "# Initiliazing the sequential model\n",
    "model = Sequential()\n",
    "# Configuring the parameters\n",
    "model.add(LSTM(n_hidden, input_shape=(timesteps, input_dim)))\n",
    "# Adding a dropout layer\n",
    "model.add(Dropout(0.5))\n",
    "# Adding a dense output layer with sigmoid activation\n",
    "model.add(Dense(n_classes, activation='sigmoid'))\n",
    "model.summary()"
   ]
  },
  {
   "cell_type": "code",
   "execution_count": 27,
   "metadata": {
    "colab": {
     "base_uri": "https://localhost:8080/",
     "height": 110
    },
    "colab_type": "code",
    "id": "sU7xjAB3MhDu",
    "outputId": "b5c5c92c-ec26-4e5a-ac1d-98921a7aface"
   },
   "outputs": [
    {
     "name": "stdout",
     "output_type": "stream",
     "text": [
      "WARNING:tensorflow:From /usr/local/lib/python3.6/dist-packages/keras/optimizers.py:793: The name tf.train.Optimizer is deprecated. Please use tf.compat.v1.train.Optimizer instead.\n",
      "\n",
      "WARNING:tensorflow:From /usr/local/lib/python3.6/dist-packages/keras/backend/tensorflow_backend.py:3576: The name tf.log is deprecated. Please use tf.math.log instead.\n",
      "\n"
     ]
    }
   ],
   "source": [
    "# Compiling the model\n",
    "model.compile(loss='categorical_crossentropy',\n",
    "              optimizer='rmsprop',\n",
    "              metrics=['accuracy'])"
   ]
  },
  {
   "cell_type": "code",
   "execution_count": 28,
   "metadata": {
    "colab": {
     "base_uri": "https://localhost:8080/",
     "height": 1000
    },
    "colab_type": "code",
    "id": "aJkgqJn7Modl",
    "outputId": "a6db1269-2d86-46a9-cdc9-8eb72fb1f224"
   },
   "outputs": [
    {
     "name": "stdout",
     "output_type": "stream",
     "text": [
      "WARNING:tensorflow:From /usr/local/lib/python3.6/dist-packages/tensorflow_core/python/ops/math_grad.py:1424: where (from tensorflow.python.ops.array_ops) is deprecated and will be removed in a future version.\n",
      "Instructions for updating:\n",
      "Use tf.where in 2.0, which has the same broadcast rule as np.where\n",
      "WARNING:tensorflow:From /usr/local/lib/python3.6/dist-packages/keras/backend/tensorflow_backend.py:1033: The name tf.assign_add is deprecated. Please use tf.compat.v1.assign_add instead.\n",
      "\n",
      "WARNING:tensorflow:From /usr/local/lib/python3.6/dist-packages/keras/backend/tensorflow_backend.py:1020: The name tf.assign is deprecated. Please use tf.compat.v1.assign instead.\n",
      "\n",
      "Train on 7352 samples, validate on 2947 samples\n",
      "Epoch 1/30\n",
      "WARNING:tensorflow:From /usr/local/lib/python3.6/dist-packages/keras/backend/tensorflow_backend.py:190: The name tf.get_default_session is deprecated. Please use tf.compat.v1.get_default_session instead.\n",
      "\n",
      "WARNING:tensorflow:From /usr/local/lib/python3.6/dist-packages/keras/backend/tensorflow_backend.py:207: The name tf.global_variables is deprecated. Please use tf.compat.v1.global_variables instead.\n",
      "\n",
      "WARNING:tensorflow:From /usr/local/lib/python3.6/dist-packages/keras/backend/tensorflow_backend.py:216: The name tf.is_variable_initialized is deprecated. Please use tf.compat.v1.is_variable_initialized instead.\n",
      "\n",
      "WARNING:tensorflow:From /usr/local/lib/python3.6/dist-packages/keras/backend/tensorflow_backend.py:223: The name tf.variables_initializer is deprecated. Please use tf.compat.v1.variables_initializer instead.\n",
      "\n",
      "7352/7352 [==============================] - 122s 17ms/step - loss: 1.3835 - acc: 0.3644 - val_loss: 1.2737 - val_acc: 0.4272\n",
      "Epoch 2/30\n",
      "7352/7352 [==============================] - 120s 16ms/step - loss: 1.1540 - acc: 0.4789 - val_loss: 1.1690 - val_acc: 0.4591\n",
      "Epoch 3/30\n",
      "7352/7352 [==============================] - 119s 16ms/step - loss: 1.0794 - acc: 0.5159 - val_loss: 1.1852 - val_acc: 0.4927\n",
      "Epoch 4/30\n",
      "7352/7352 [==============================] - 118s 16ms/step - loss: 0.9060 - acc: 0.6055 - val_loss: 0.8673 - val_acc: 0.6118\n",
      "Epoch 5/30\n",
      "7352/7352 [==============================] - 119s 16ms/step - loss: 0.7886 - acc: 0.6342 - val_loss: 0.7840 - val_acc: 0.6047\n",
      "Epoch 6/30\n",
      "7352/7352 [==============================] - 118s 16ms/step - loss: 0.7236 - acc: 0.6608 - val_loss: 0.7423 - val_acc: 0.6305\n",
      "Epoch 7/30\n",
      "7352/7352 [==============================] - 119s 16ms/step - loss: 0.6684 - acc: 0.6919 - val_loss: 0.6961 - val_acc: 0.6980\n",
      "Epoch 8/30\n",
      "7352/7352 [==============================] - 119s 16ms/step - loss: 0.6110 - acc: 0.7459 - val_loss: 0.8326 - val_acc: 0.6922\n",
      "Epoch 9/30\n",
      "7352/7352 [==============================] - 119s 16ms/step - loss: 0.5654 - acc: 0.7768 - val_loss: 0.6135 - val_acc: 0.7689\n",
      "Epoch 10/30\n",
      "7352/7352 [==============================] - 118s 16ms/step - loss: 0.5030 - acc: 0.8003 - val_loss: 0.6486 - val_acc: 0.7533\n",
      "Epoch 11/30\n",
      "7352/7352 [==============================] - 118s 16ms/step - loss: 0.4397 - acc: 0.8371 - val_loss: 0.5020 - val_acc: 0.8392\n",
      "Epoch 12/30\n",
      "7352/7352 [==============================] - 117s 16ms/step - loss: 0.3632 - acc: 0.8849 - val_loss: 0.5103 - val_acc: 0.8157\n",
      "Epoch 13/30\n",
      "7352/7352 [==============================] - 117s 16ms/step - loss: 0.3070 - acc: 0.9169 - val_loss: 0.4403 - val_acc: 0.8731\n",
      "Epoch 14/30\n",
      "7352/7352 [==============================] - 117s 16ms/step - loss: 0.2762 - acc: 0.9212 - val_loss: 0.5572 - val_acc: 0.8636\n",
      "Epoch 15/30\n",
      "7352/7352 [==============================] - 121s 16ms/step - loss: 0.2655 - acc: 0.9229 - val_loss: 0.4618 - val_acc: 0.8588\n",
      "Epoch 16/30\n",
      "7352/7352 [==============================] - 119s 16ms/step - loss: 0.3491 - acc: 0.8878 - val_loss: 0.5338 - val_acc: 0.8673\n",
      "Epoch 17/30\n",
      "7352/7352 [==============================] - 118s 16ms/step - loss: 0.2308 - acc: 0.9302 - val_loss: 0.3528 - val_acc: 0.8887\n",
      "Epoch 18/30\n",
      "7352/7352 [==============================] - 118s 16ms/step - loss: 0.2043 - acc: 0.9351 - val_loss: 0.4362 - val_acc: 0.8802\n",
      "Epoch 19/30\n",
      "7352/7352 [==============================] - 117s 16ms/step - loss: 0.2037 - acc: 0.9314 - val_loss: 0.3832 - val_acc: 0.8958\n",
      "Epoch 20/30\n",
      "7352/7352 [==============================] - 117s 16ms/step - loss: 0.1934 - acc: 0.9306 - val_loss: 0.2977 - val_acc: 0.9013\n",
      "Epoch 21/30\n",
      "7352/7352 [==============================] - 116s 16ms/step - loss: 0.1941 - acc: 0.9355 - val_loss: 0.5434 - val_acc: 0.8677\n",
      "Epoch 22/30\n",
      "7352/7352 [==============================] - 118s 16ms/step - loss: 0.1843 - acc: 0.9350 - val_loss: 0.3588 - val_acc: 0.9030\n",
      "Epoch 23/30\n",
      "7352/7352 [==============================] - 119s 16ms/step - loss: 0.1875 - acc: 0.9353 - val_loss: 0.3861 - val_acc: 0.9013\n",
      "Epoch 24/30\n",
      "7352/7352 [==============================] - 118s 16ms/step - loss: 0.2141 - acc: 0.9407 - val_loss: 0.4146 - val_acc: 0.8839\n",
      "Epoch 25/30\n",
      "7352/7352 [==============================] - 118s 16ms/step - loss: 0.1745 - acc: 0.9423 - val_loss: 0.7399 - val_acc: 0.8728\n",
      "Epoch 26/30\n",
      "7352/7352 [==============================] - 119s 16ms/step - loss: 0.1962 - acc: 0.9359 - val_loss: 0.4307 - val_acc: 0.8982\n",
      "Epoch 27/30\n",
      "7352/7352 [==============================] - 114s 16ms/step - loss: 0.1734 - acc: 0.9440 - val_loss: 0.3458 - val_acc: 0.9084\n",
      "Epoch 28/30\n",
      "7352/7352 [==============================] - 114s 16ms/step - loss: 0.1760 - acc: 0.9442 - val_loss: 0.5565 - val_acc: 0.8839\n",
      "Epoch 29/30\n",
      "7352/7352 [==============================] - 117s 16ms/step - loss: 0.1616 - acc: 0.9445 - val_loss: 0.4511 - val_acc: 0.9006\n",
      "Epoch 30/30\n",
      "7352/7352 [==============================] - 113s 15ms/step - loss: 0.1954 - acc: 0.9407 - val_loss: 0.3669 - val_acc: 0.8989\n"
     ]
    }
   ],
   "source": [
    "history=model.fit(X_train,\n",
    "          Y_train,\n",
    "          batch_size=batch_size,\n",
    "          validation_data=(X_test, Y_test),\n",
    "          epochs=epochs)"
   ]
  },
  {
   "cell_type": "code",
   "execution_count": 29,
   "metadata": {
    "colab": {
     "base_uri": "https://localhost:8080/",
     "height": 199
    },
    "colab_type": "code",
    "id": "0p4JV7cdMtiT",
    "outputId": "291f8265-3377-4fcc-92b3-d6a6de119954"
   },
   "outputs": [
    {
     "name": "stdout",
     "output_type": "stream",
     "text": [
      "Pred                LAYING  SITTING  ...  WALKING_DOWNSTAIRS  WALKING_UPSTAIRS\n",
      "True                                 ...                                      \n",
      "LAYING                 509        1  ...                   0                27\n",
      "SITTING                  1      382  ...                   0                 0\n",
      "STANDING                 0       79  ...                   0                 0\n",
      "WALKING                  0        0  ...                   0                26\n",
      "WALKING_DOWNSTAIRS       0        0  ...                 384                33\n",
      "WALKING_UPSTAIRS         0        0  ...                  11               451\n",
      "\n",
      "[6 rows x 6 columns]\n"
     ]
    }
   ],
   "source": [
    "# Confusion Matrix\n",
    "print(confusion_matrix(Y_test, model.predict(X_test)))"
   ]
  },
  {
   "cell_type": "code",
   "execution_count": 32,
   "metadata": {
    "colab": {
     "base_uri": "https://localhost:8080/",
     "height": 53
    },
    "colab_type": "code",
    "id": "OiR-TUNkaR5t",
    "outputId": "313f7197-d200-4d66-f498-883d865dda22"
   },
   "outputs": [
    {
     "name": "stdout",
     "output_type": "stream",
     "text": [
      "2947/2947 [==============================] - 8s 3ms/step\n"
     ]
    },
    {
     "data": {
      "text/plain": [
       "[0.36691947063783076, 0.8988802171700034]"
      ]
     },
     "execution_count": 32,
     "metadata": {
      "tags": []
     },
     "output_type": "execute_result"
    }
   ],
   "source": [
    "score = model.evaluate(X_test, Y_test)\n",
    "score"
   ]
  },
  {
   "cell_type": "code",
   "execution_count": 0,
   "metadata": {
    "colab": {},
    "colab_type": "code",
    "id": "KUVJclo9aiJN"
   },
   "outputs": [],
   "source": [
    "%matplotlib inline"
   ]
  },
  {
   "cell_type": "code",
   "execution_count": 34,
   "metadata": {
    "colab": {
     "base_uri": "https://localhost:8080/",
     "height": 283
    },
    "colab_type": "code",
    "id": "0u6veNmLaZ9z",
    "outputId": "26939fb6-08ab-4026-e45f-cc0c8ded2e28"
   },
   "outputs": [
    {
     "data": {
      "image/png": "[encoded data removed]",
      "text/plain": [
       "<Figure size 432x288 with 1 Axes>"
      ]
     },
     "metadata": {
      "tags": []
     },
     "output_type": "display_data"
    }
   ],
   "source": [
    "fig,ax = plt.subplots(1,1)\n",
    "ax.set_xlabel('epoch') ; ax.set_ylabel('Categorical Crossentropy Loss')\n",
    "x = list(range(1,epochs+1))\n",
    "vy = history.history['val_loss']\n",
    "ty = history.history['loss']\n",
    "plt_dynamic(x, vy, ty, ax)"
   ]
  },
  {
   "cell_type": "markdown",
   "metadata": {
    "colab": {},
    "colab_type": "code",
    "id": "Bp9rsU4RkWOY"
   },
   "source": [
    "## USING CNN:"
   ]
  },
  {
   "cell_type": "markdown",
   "metadata": {},
   "source": [
    "### 1 Layer CNN:"
   ]
  },
  {
   "cell_type": "code",
   "execution_count": 40,
   "metadata": {
    "colab": {
     "base_uri": "https://localhost:8080/",
     "height": 35
    },
    "colab_type": "code",
    "id": "D6wtMwASlc8F",
    "outputId": "7982ea62-d647-428b-b8bb-bc11a5640a59"
   },
   "outputs": [
    {
     "data": {
      "text/plain": [
       "7352"
      ]
     },
     "execution_count": 40,
     "metadata": {
      "tags": []
     },
     "output_type": "execute_result"
    }
   ],
   "source": [
    "X_train.shape[0]"
   ]
  },
  {
   "cell_type": "code",
   "execution_count": 43,
   "metadata": {
    "colab": {
     "base_uri": "https://localhost:8080/",
     "height": 53
    },
    "colab_type": "code",
    "id": "hTrlKEhGafTT",
    "outputId": "40a436fc-9682-40d1-a841-89bf0944ad3a"
   },
   "outputs": [
    {
     "name": "stdout",
     "output_type": "stream",
     "text": [
      "(7352, 128, 9, 1)\n",
      "(2947, 128, 9, 1)\n"
     ]
    }
   ],
   "source": [
    "X_train = X_train.reshape( X_train.shape[0], 128, 9, 1 )\n",
    "X_test = X_test.reshape( X_test.shape[0], 128, 9, 1 )\n",
    "\n",
    "\n",
    "\n",
    "print(X_train.shape )\n",
    "print(X_test.shape )"
   ]
  },
  {
   "cell_type": "code",
   "execution_count": 0,
   "metadata": {
    "colab": {},
    "colab_type": "code",
    "id": "t9FxwKRElxK0"
   },
   "outputs": [],
   "source": [
    "inputShape = ( 128, 9, 1 )\n",
    "epochs = 30\n",
    "batch_size = 16\n",
    "n_hidden = 32"
   ]
  },
  {
   "cell_type": "code",
   "execution_count": 0,
   "metadata": {
    "colab": {},
    "colab_type": "code",
    "id": "zxjjlNaTkpY7"
   },
   "outputs": [],
   "source": [
    "from keras.models import Sequential\n",
    "from keras.layers import Dense, Dropout, Flatten\n",
    "from keras.layers import Conv2D, MaxPooling2D\n",
    "\n",
    "\n",
    "model = Sequential()\n",
    "\n",
    "model.add( Conv2D( 64, kernel_size = (3, 3), activation='relu', input_shape = inputShape ))\n",
    "\n",
    "model.add( Dropout(0.25) )\n",
    "model.add( Flatten() )\n",
    "model.add( Dense( 128, activation='relu' ))\n",
    "model.add( Dropout(0.5))\n",
    "model.add( Dense( 6, activation='softmax' ))"
   ]
  },
  {
   "cell_type": "code",
   "execution_count": 48,
   "metadata": {
    "colab": {
     "base_uri": "https://localhost:8080/",
     "height": 380
    },
    "colab_type": "code",
    "id": "jVTuuwPnl-xx",
    "outputId": "09e6051f-5a04-41ff-8e10-c96c1789894b"
   },
   "outputs": [
    {
     "name": "stdout",
     "output_type": "stream",
     "text": [
      "Model: \"sequential_4\"\n",
      "_________________________________________________________________\n",
      "Layer (type)                 Output Shape              Param #   \n",
      "=================================================================\n",
      "conv2d_2 (Conv2D)            (None, 126, 7, 64)        640       \n",
      "_________________________________________________________________\n",
      "dropout_5 (Dropout)          (None, 126, 7, 64)        0         \n",
      "_________________________________________________________________\n",
      "flatten_2 (Flatten)          (None, 56448)             0         \n",
      "_________________________________________________________________\n",
      "dense_4 (Dense)              (None, 128)               7225472   \n",
      "_________________________________________________________________\n",
      "dropout_6 (Dropout)          (None, 128)               0         \n",
      "_________________________________________________________________\n",
      "dense_5 (Dense)              (None, 6)                 774       \n",
      "=================================================================\n",
      "Total params: 7,226,886\n",
      "Trainable params: 7,226,886\n",
      "Non-trainable params: 0\n",
      "_________________________________________________________________\n"
     ]
    }
   ],
   "source": [
    "model.summary()"
   ]
  },
  {
   "cell_type": "code",
   "execution_count": 53,
   "metadata": {
    "colab": {
     "base_uri": "https://localhost:8080/",
     "height": 1000
    },
    "colab_type": "code",
    "id": "EN0iBTHcmJ_z",
    "outputId": "c5baef9d-e4d9-4954-8abc-1a095f30256e"
   },
   "outputs": [
    {
     "name": "stdout",
     "output_type": "stream",
     "text": [
      "Train on 7352 samples, validate on 2947 samples\n",
      "Epoch 1/30\n",
      "7352/7352 [==============================] - 12s 2ms/step - loss: 0.6643 - acc: 0.7082 - val_loss: 0.5803 - val_acc: 0.7818\n",
      "Epoch 2/30\n",
      "7352/7352 [==============================] - 9s 1ms/step - loss: 0.4405 - acc: 0.8180 - val_loss: 0.4637 - val_acc: 0.8286\n",
      "Epoch 3/30\n",
      "7352/7352 [==============================] - 9s 1ms/step - loss: 0.3333 - acc: 0.8660 - val_loss: 0.4076 - val_acc: 0.8711\n",
      "Epoch 4/30\n",
      "7352/7352 [==============================] - 9s 1ms/step - loss: 0.2860 - acc: 0.8911 - val_loss: 0.4252 - val_acc: 0.8422\n",
      "Epoch 5/30\n",
      "7352/7352 [==============================] - 9s 1ms/step - loss: 0.2490 - acc: 0.9029 - val_loss: 0.4029 - val_acc: 0.8870\n",
      "Epoch 6/30\n",
      "7352/7352 [==============================] - 9s 1ms/step - loss: 0.2335 - acc: 0.9076 - val_loss: 0.3985 - val_acc: 0.8728\n",
      "Epoch 7/30\n",
      "7352/7352 [==============================] - 9s 1ms/step - loss: 0.2190 - acc: 0.9124 - val_loss: 0.3695 - val_acc: 0.8816\n",
      "Epoch 8/30\n",
      "7352/7352 [==============================] - 9s 1ms/step - loss: 0.2064 - acc: 0.9184 - val_loss: 0.3846 - val_acc: 0.8853\n",
      "Epoch 9/30\n",
      "7352/7352 [==============================] - 9s 1ms/step - loss: 0.1935 - acc: 0.9214 - val_loss: 0.4220 - val_acc: 0.8880\n",
      "Epoch 10/30\n",
      "7352/7352 [==============================] - 9s 1ms/step - loss: 0.1847 - acc: 0.9271 - val_loss: 0.4057 - val_acc: 0.8843\n",
      "Epoch 11/30\n",
      "7352/7352 [==============================] - 9s 1ms/step - loss: 0.1752 - acc: 0.9295 - val_loss: 0.4775 - val_acc: 0.8775\n",
      "Epoch 12/30\n",
      "7352/7352 [==============================] - 9s 1ms/step - loss: 0.1747 - acc: 0.9342 - val_loss: 0.4310 - val_acc: 0.8863\n",
      "Epoch 13/30\n",
      "7352/7352 [==============================] - 9s 1ms/step - loss: 0.1678 - acc: 0.9332 - val_loss: 0.4175 - val_acc: 0.8873\n",
      "Epoch 14/30\n",
      "7352/7352 [==============================] - 9s 1ms/step - loss: 0.1628 - acc: 0.9362 - val_loss: 0.4935 - val_acc: 0.8531\n",
      "Epoch 15/30\n",
      "7352/7352 [==============================] - 9s 1ms/step - loss: 0.1598 - acc: 0.9358 - val_loss: 0.5044 - val_acc: 0.8823\n",
      "Epoch 16/30\n",
      "7352/7352 [==============================] - 9s 1ms/step - loss: 0.1565 - acc: 0.9335 - val_loss: 0.4268 - val_acc: 0.8884\n",
      "Epoch 17/30\n",
      "7352/7352 [==============================] - 9s 1ms/step - loss: 0.1564 - acc: 0.9342 - val_loss: 0.4918 - val_acc: 0.8826\n",
      "Epoch 18/30\n",
      "7352/7352 [==============================] - 9s 1ms/step - loss: 0.1538 - acc: 0.9358 - val_loss: 0.5213 - val_acc: 0.8758\n",
      "Epoch 19/30\n",
      "7352/7352 [==============================] - 9s 1ms/step - loss: 0.1527 - acc: 0.9370 - val_loss: 0.4674 - val_acc: 0.9030\n",
      "Epoch 20/30\n",
      "7352/7352 [==============================] - 9s 1ms/step - loss: 0.1475 - acc: 0.9388 - val_loss: 0.5002 - val_acc: 0.8931\n",
      "Epoch 21/30\n",
      "7352/7352 [==============================] - 9s 1ms/step - loss: 0.1451 - acc: 0.9384 - val_loss: 0.4940 - val_acc: 0.8941\n",
      "Epoch 22/30\n",
      "7352/7352 [==============================] - 9s 1ms/step - loss: 0.1505 - acc: 0.9419 - val_loss: 0.5034 - val_acc: 0.8894\n",
      "Epoch 23/30\n",
      "7352/7352 [==============================] - 9s 1ms/step - loss: 0.1456 - acc: 0.9397 - val_loss: 0.4924 - val_acc: 0.8904\n",
      "Epoch 24/30\n",
      "7352/7352 [==============================] - 9s 1ms/step - loss: 0.1442 - acc: 0.9384 - val_loss: 0.5979 - val_acc: 0.8877\n",
      "Epoch 25/30\n",
      "7352/7352 [==============================] - 9s 1ms/step - loss: 0.1478 - acc: 0.9402 - val_loss: 0.5263 - val_acc: 0.8856\n",
      "Epoch 26/30\n",
      "7352/7352 [==============================] - 9s 1ms/step - loss: 0.1452 - acc: 0.9368 - val_loss: 0.4913 - val_acc: 0.8918\n",
      "Epoch 27/30\n",
      "7352/7352 [==============================] - 9s 1ms/step - loss: 0.1455 - acc: 0.9448 - val_loss: 0.4983 - val_acc: 0.8761\n",
      "Epoch 28/30\n",
      "7352/7352 [==============================] - 9s 1ms/step - loss: 0.1480 - acc: 0.9412 - val_loss: 0.5064 - val_acc: 0.8962\n",
      "Epoch 29/30\n",
      "7352/7352 [==============================] - 9s 1ms/step - loss: 0.1474 - acc: 0.9384 - val_loss: 0.5706 - val_acc: 0.8741\n",
      "Epoch 30/30\n",
      "7352/7352 [==============================] - 9s 1ms/step - loss: 0.1508 - acc: 0.9372 - val_loss: 0.5511 - val_acc: 0.8673\n"
     ]
    }
   ],
   "source": [
    "import keras\n",
    "model.compile( loss=keras.losses.categorical_crossentropy, optimizer=keras.optimizers.Adadelta(), metrics=['accuracy'] )\n",
    "history = model.fit( X_train, Y_train, batch_size=batch_size, epochs=epochs, verbose=1, validation_data=(X_test, Y_test) )"
   ]
  },
  {
   "cell_type": "markdown",
   "metadata": {},
   "source": [
    "## 2 LAYER CNN:"
   ]
  },
  {
   "cell_type": "code",
   "execution_count": 54,
   "metadata": {
    "colab": {
     "base_uri": "https://localhost:8080/",
     "height": 1000
    },
    "colab_type": "code",
    "id": "v1F5uSaSmcuT",
    "outputId": "de73b7fe-8873-4501-b018-38125bab9c3b"
   },
   "outputs": [
    {
     "name": "stdout",
     "output_type": "stream",
     "text": [
      "Model: \"sequential_5\"\n",
      "_________________________________________________________________\n",
      "Layer (type)                 Output Shape              Param #   \n",
      "=================================================================\n",
      "conv2d_3 (Conv2D)            (None, 126, 7, 32)        320       \n",
      "_________________________________________________________________\n",
      "conv2d_4 (Conv2D)            (None, 124, 5, 64)        18496     \n",
      "_________________________________________________________________\n",
      "dropout_7 (Dropout)          (None, 124, 5, 64)        0         \n",
      "_________________________________________________________________\n",
      "flatten_3 (Flatten)          (None, 39680)             0         \n",
      "_________________________________________________________________\n",
      "dense_6 (Dense)              (None, 128)               5079168   \n",
      "_________________________________________________________________\n",
      "dropout_8 (Dropout)          (None, 128)               0         \n",
      "_________________________________________________________________\n",
      "dense_7 (Dense)              (None, 6)                 774       \n",
      "=================================================================\n",
      "Total params: 5,098,758\n",
      "Trainable params: 5,098,758\n",
      "Non-trainable params: 0\n",
      "_________________________________________________________________\n",
      "Train on 7352 samples, validate on 2947 samples\n",
      "Epoch 1/30\n",
      "7352/7352 [==============================] - 9s 1ms/step - loss: 0.5555 - acc: 0.7712 - val_loss: 0.4669 - val_acc: 0.8412\n",
      "Epoch 2/30\n",
      "7352/7352 [==============================] - 8s 1ms/step - loss: 0.2311 - acc: 0.9117 - val_loss: 0.3977 - val_acc: 0.8666\n",
      "Epoch 3/30\n",
      "7352/7352 [==============================] - 8s 1ms/step - loss: 0.1606 - acc: 0.9418 - val_loss: 0.3501 - val_acc: 0.9006\n",
      "Epoch 4/30\n",
      "7352/7352 [==============================] - 8s 1ms/step - loss: 0.1419 - acc: 0.9459 - val_loss: 0.3171 - val_acc: 0.9111\n",
      "Epoch 5/30\n",
      "7352/7352 [==============================] - 8s 1ms/step - loss: 0.1324 - acc: 0.9486 - val_loss: 0.4125 - val_acc: 0.8968\n",
      "Epoch 6/30\n",
      "7352/7352 [==============================] - 8s 1ms/step - loss: 0.1204 - acc: 0.9487 - val_loss: 0.4503 - val_acc: 0.9002\n",
      "Epoch 7/30\n",
      "7352/7352 [==============================] - 8s 1ms/step - loss: 0.1152 - acc: 0.9517 - val_loss: 0.4229 - val_acc: 0.9104\n",
      "Epoch 8/30\n",
      "7352/7352 [==============================] - 8s 1ms/step - loss: 0.1111 - acc: 0.9572 - val_loss: 0.4470 - val_acc: 0.9026\n",
      "Epoch 9/30\n",
      "7352/7352 [==============================] - 8s 1ms/step - loss: 0.1097 - acc: 0.9569 - val_loss: 0.3872 - val_acc: 0.9057\n",
      "Epoch 10/30\n",
      "7352/7352 [==============================] - 8s 1ms/step - loss: 0.1035 - acc: 0.9582 - val_loss: 0.4680 - val_acc: 0.9172\n",
      "Epoch 11/30\n",
      "7352/7352 [==============================] - 8s 1ms/step - loss: 0.0952 - acc: 0.9616 - val_loss: 0.4746 - val_acc: 0.9220\n",
      "Epoch 12/30\n",
      "7352/7352 [==============================] - 9s 1ms/step - loss: 0.0900 - acc: 0.9646 - val_loss: 0.5675 - val_acc: 0.8884\n",
      "Epoch 13/30\n",
      "7352/7352 [==============================] - 8s 1ms/step - loss: 0.0858 - acc: 0.9649 - val_loss: 0.4840 - val_acc: 0.9152\n",
      "Epoch 14/30\n",
      "7352/7352 [==============================] - 8s 1ms/step - loss: 0.0745 - acc: 0.9703 - val_loss: 0.4946 - val_acc: 0.9009\n",
      "Epoch 15/30\n",
      "7352/7352 [==============================] - 8s 1ms/step - loss: 0.0723 - acc: 0.9709 - val_loss: 0.4674 - val_acc: 0.9213\n",
      "Epoch 16/30\n",
      "7352/7352 [==============================] - 9s 1ms/step - loss: 0.0661 - acc: 0.9735 - val_loss: 0.5452 - val_acc: 0.9250\n",
      "Epoch 17/30\n",
      "7352/7352 [==============================] - 8s 1ms/step - loss: 0.0618 - acc: 0.9766 - val_loss: 0.5241 - val_acc: 0.9138\n",
      "Epoch 18/30\n",
      "7352/7352 [==============================] - 9s 1ms/step - loss: 0.0602 - acc: 0.9770 - val_loss: 0.5812 - val_acc: 0.9250\n",
      "Epoch 19/30\n",
      "7352/7352 [==============================] - 8s 1ms/step - loss: 0.0508 - acc: 0.9803 - val_loss: 0.4978 - val_acc: 0.9304\n",
      "Epoch 20/30\n",
      "7352/7352 [==============================] - 9s 1ms/step - loss: 0.0509 - acc: 0.9812 - val_loss: 0.5069 - val_acc: 0.9213\n",
      "Epoch 21/30\n",
      "7352/7352 [==============================] - 8s 1ms/step - loss: 0.0469 - acc: 0.9822 - val_loss: 0.5430 - val_acc: 0.9237\n",
      "Epoch 22/30\n",
      "7352/7352 [==============================] - 8s 1ms/step - loss: 0.0431 - acc: 0.9844 - val_loss: 0.5757 - val_acc: 0.9209\n",
      "Epoch 23/30\n",
      "7352/7352 [==============================] - 9s 1ms/step - loss: 0.0410 - acc: 0.9844 - val_loss: 0.6042 - val_acc: 0.9267\n",
      "Epoch 24/30\n",
      "7352/7352 [==============================] - 8s 1ms/step - loss: 0.0393 - acc: 0.9844 - val_loss: 0.5197 - val_acc: 0.9145\n",
      "Epoch 25/30\n",
      "7352/7352 [==============================] - 8s 1ms/step - loss: 0.0394 - acc: 0.9845 - val_loss: 0.5590 - val_acc: 0.9240\n",
      "Epoch 26/30\n",
      "7352/7352 [==============================] - 8s 1ms/step - loss: 0.0357 - acc: 0.9865 - val_loss: 0.6389 - val_acc: 0.9182\n",
      "Epoch 27/30\n",
      "7352/7352 [==============================] - 9s 1ms/step - loss: 0.0358 - acc: 0.9872 - val_loss: 0.5679 - val_acc: 0.9247\n",
      "Epoch 28/30\n",
      "7352/7352 [==============================] - 9s 1ms/step - loss: 0.0321 - acc: 0.9876 - val_loss: 0.6492 - val_acc: 0.9223\n",
      "Epoch 29/30\n",
      "7352/7352 [==============================] - 9s 1ms/step - loss: 0.0359 - acc: 0.9860 - val_loss: 0.6004 - val_acc: 0.9223\n",
      "Epoch 30/30\n",
      "7352/7352 [==============================] - 8s 1ms/step - loss: 0.0338 - acc: 0.9875 - val_loss: 0.7383 - val_acc: 0.9125\n"
     ]
    }
   ],
   "source": [
    "from keras.models import Sequential\n",
    "from keras.layers import Dense, Dropout, Flatten\n",
    "from keras.layers import Conv2D, MaxPooling2D\n",
    "\n",
    "\n",
    "model = Sequential()\n",
    "\n",
    "model.add( Conv2D( 32, kernel_size = (3, 3), activation='relu', input_shape = inputShape ))\n",
    "model.add( Conv2D( 64, kernel_size = (3, 3), activation='relu', input_shape = inputShape ))\n",
    "model.add( Dropout(0.25) )\n",
    "model.add( Flatten() )\n",
    "model.add( Dense( 128, activation='relu' ))\n",
    "model.add( Dropout(0.5))\n",
    "model.add( Dense( 6, activation='softmax' ))\n",
    "model.summary()\n",
    "model.compile( loss=keras.losses.categorical_crossentropy, optimizer=keras.optimizers.Adadelta(), metrics=['accuracy'] )\n",
    "history = model.fit( X_train, Y_train, batch_size=batch_size, epochs=epochs, verbose=1, validation_data=(X_test, Y_test) )"
   ]
  },
  {
   "cell_type": "markdown",
   "metadata": {},
   "source": [
    "## 3 LAYER CNN:"
   ]
  },
  {
   "cell_type": "markdown",
   "metadata": {},
   "source": [
    " ### ARCHITECTURE  1:"
   ]
  },
  {
   "cell_type": "markdown",
   "metadata": {},
   "source": [
    "#### CONV2D-CONV2D-Batchnormalization-Dropout-CONV2D-Batchnormalization-MAXPOOLING2D-Dropout-Dense"
   ]
  },
  {
   "cell_type": "code",
   "execution_count": 56,
   "metadata": {
    "colab": {
     "base_uri": "https://localhost:8080/",
     "height": 1000
    },
    "colab_type": "code",
    "id": "ifZdt0liqFZO",
    "outputId": "10fdc584-f68d-41fa-fd29-2eff52fb0ac6"
   },
   "outputs": [
    {
     "name": "stdout",
     "output_type": "stream",
     "text": [
      "WARNING:tensorflow:From /usr/local/lib/python3.6/dist-packages/keras/backend/tensorflow_backend.py:2041: The name tf.nn.fused_batch_norm is deprecated. Please use tf.compat.v1.nn.fused_batch_norm instead.\n",
      "\n",
      "WARNING:tensorflow:From /usr/local/lib/python3.6/dist-packages/keras/backend/tensorflow_backend.py:4267: The name tf.nn.max_pool is deprecated. Please use tf.nn.max_pool2d instead.\n",
      "\n",
      "Model: \"sequential_6\"\n",
      "_________________________________________________________________\n",
      "Layer (type)                 Output Shape              Param #   \n",
      "=================================================================\n",
      "conv2d_5 (Conv2D)            (None, 126, 7, 32)        320       \n",
      "_________________________________________________________________\n",
      "conv2d_6 (Conv2D)            (None, 124, 5, 64)        18496     \n",
      "_________________________________________________________________\n",
      "batch_normalization_1 (Batch (None, 124, 5, 64)        256       \n",
      "_________________________________________________________________\n",
      "dropout_9 (Dropout)          (None, 124, 5, 64)        0         \n",
      "_________________________________________________________________\n",
      "conv2d_7 (Conv2D)            (None, 122, 3, 100)       57700     \n",
      "_________________________________________________________________\n",
      "batch_normalization_2 (Batch (None, 122, 3, 100)       400       \n",
      "_________________________________________________________________\n",
      "max_pooling2d_1 (MaxPooling2 (None, 61, 1, 100)        0         \n",
      "_________________________________________________________________\n",
      "dropout_10 (Dropout)         (None, 61, 1, 100)        0         \n",
      "_________________________________________________________________\n",
      "flatten_4 (Flatten)          (None, 6100)              0         \n",
      "_________________________________________________________________\n",
      "dense_8 (Dense)              (None, 128)               780928    \n",
      "_________________________________________________________________\n",
      "dropout_11 (Dropout)         (None, 128)               0         \n",
      "_________________________________________________________________\n",
      "dense_9 (Dense)              (None, 6)                 774       \n",
      "=================================================================\n",
      "Total params: 858,874\n",
      "Trainable params: 858,546\n",
      "Non-trainable params: 328\n",
      "_________________________________________________________________\n",
      "Train on 7352 samples, validate on 2947 samples\n",
      "Epoch 1/30\n",
      "7352/7352 [==============================] - 12s 2ms/step - loss: 0.9520 - acc: 0.6313 - val_loss: 0.8433 - val_acc: 0.7136\n",
      "Epoch 2/30\n",
      "7352/7352 [==============================] - 10s 1ms/step - loss: 0.4290 - acc: 0.8380 - val_loss: 1.3523 - val_acc: 0.6654\n",
      "Epoch 3/30\n",
      "7352/7352 [==============================] - 10s 1ms/step - loss: 0.2709 - acc: 0.8988 - val_loss: 0.7192 - val_acc: 0.8195\n",
      "Epoch 4/30\n",
      "7352/7352 [==============================] - 10s 1ms/step - loss: 0.2273 - acc: 0.9162 - val_loss: 0.4861 - val_acc: 0.8914\n",
      "Epoch 5/30\n",
      "7352/7352 [==============================] - 10s 1ms/step - loss: 0.2159 - acc: 0.9217 - val_loss: 0.5212 - val_acc: 0.8850\n",
      "Epoch 6/30\n",
      "7352/7352 [==============================] - 11s 1ms/step - loss: 0.1942 - acc: 0.9275 - val_loss: 0.4772 - val_acc: 0.8996\n",
      "Epoch 7/30\n",
      "7352/7352 [==============================] - 11s 2ms/step - loss: 0.1781 - acc: 0.9320 - val_loss: 0.3775 - val_acc: 0.9111\n",
      "Epoch 8/30\n",
      "7352/7352 [==============================] - 11s 2ms/step - loss: 0.1766 - acc: 0.9339 - val_loss: 0.4930 - val_acc: 0.9067\n",
      "Epoch 9/30\n",
      "7352/7352 [==============================] - 11s 2ms/step - loss: 0.1632 - acc: 0.9378 - val_loss: 0.4642 - val_acc: 0.9040\n",
      "Epoch 10/30\n",
      "7352/7352 [==============================] - 11s 2ms/step - loss: 0.1672 - acc: 0.9378 - val_loss: 0.4854 - val_acc: 0.8853\n",
      "Epoch 11/30\n",
      "7352/7352 [==============================] - 11s 2ms/step - loss: 0.1530 - acc: 0.9406 - val_loss: 0.4437 - val_acc: 0.8975\n",
      "Epoch 12/30\n",
      "7352/7352 [==============================] - 11s 2ms/step - loss: 0.1620 - acc: 0.9418 - val_loss: 0.4974 - val_acc: 0.9135\n",
      "Epoch 13/30\n",
      "7352/7352 [==============================] - 11s 2ms/step - loss: 0.1525 - acc: 0.9459 - val_loss: 0.4460 - val_acc: 0.9175\n",
      "Epoch 14/30\n",
      "7352/7352 [==============================] - 11s 2ms/step - loss: 0.1561 - acc: 0.9408 - val_loss: 0.4826 - val_acc: 0.8836\n",
      "Epoch 15/30\n",
      "7352/7352 [==============================] - 11s 2ms/step - loss: 0.1525 - acc: 0.9480 - val_loss: 0.4000 - val_acc: 0.9162\n",
      "Epoch 16/30\n",
      "7352/7352 [==============================] - 11s 2ms/step - loss: 0.1490 - acc: 0.9464 - val_loss: 0.5386 - val_acc: 0.8717\n",
      "Epoch 17/30\n",
      "7352/7352 [==============================] - 11s 2ms/step - loss: 0.1425 - acc: 0.9461 - val_loss: 0.2922 - val_acc: 0.9267\n",
      "Epoch 18/30\n",
      "7352/7352 [==============================] - 11s 2ms/step - loss: 0.1465 - acc: 0.9460 - val_loss: 0.3495 - val_acc: 0.9250\n",
      "Epoch 19/30\n",
      "7352/7352 [==============================] - 11s 2ms/step - loss: 0.1289 - acc: 0.9497 - val_loss: 0.4120 - val_acc: 0.9250\n",
      "Epoch 20/30\n",
      "7352/7352 [==============================] - 11s 2ms/step - loss: 0.1243 - acc: 0.9521 - val_loss: 0.3790 - val_acc: 0.9067\n",
      "Epoch 21/30\n",
      "7352/7352 [==============================] - 11s 2ms/step - loss: 0.1305 - acc: 0.9539 - val_loss: 0.2725 - val_acc: 0.9328\n",
      "Epoch 22/30\n",
      "7352/7352 [==============================] - 11s 2ms/step - loss: 0.1278 - acc: 0.9532 - val_loss: 0.3766 - val_acc: 0.9287\n",
      "Epoch 23/30\n",
      "7352/7352 [==============================] - 11s 2ms/step - loss: 0.1209 - acc: 0.9570 - val_loss: 0.3693 - val_acc: 0.9410\n",
      "Epoch 24/30\n",
      "7352/7352 [==============================] - 11s 2ms/step - loss: 0.1129 - acc: 0.9612 - val_loss: 0.2907 - val_acc: 0.9352\n",
      "Epoch 25/30\n",
      "7352/7352 [==============================] - 11s 2ms/step - loss: 0.1143 - acc: 0.9600 - val_loss: 0.3324 - val_acc: 0.9413\n",
      "Epoch 26/30\n",
      "7352/7352 [==============================] - 11s 2ms/step - loss: 0.1035 - acc: 0.9623 - val_loss: 0.4018 - val_acc: 0.9135\n",
      "Epoch 27/30\n",
      "7352/7352 [==============================] - 11s 2ms/step - loss: 0.1047 - acc: 0.9653 - val_loss: 0.3818 - val_acc: 0.9410\n",
      "Epoch 28/30\n",
      "7352/7352 [==============================] - 11s 2ms/step - loss: 0.0963 - acc: 0.9655 - val_loss: 0.2272 - val_acc: 0.9403\n",
      "Epoch 29/30\n",
      "7352/7352 [==============================] - 11s 2ms/step - loss: 0.0945 - acc: 0.9676 - val_loss: 0.4649 - val_acc: 0.9318\n",
      "Epoch 30/30\n",
      "7352/7352 [==============================] - 11s 2ms/step - loss: 0.0931 - acc: 0.9668 - val_loss: 0.3287 - val_acc: 0.9148\n"
     ]
    }
   ],
   "source": [
    "from keras.layers.normalization import BatchNormalization\n",
    "\n",
    "model = Sequential()\n",
    "\n",
    "model.add( Conv2D( 32, kernel_size = (3, 3), activation='relu', input_shape = ipShape ))\n",
    "model.add( Conv2D( 64, (3, 3), activation='relu' ))\n",
    "model.add( BatchNormalization() )\n",
    "model.add( Dropout(0.5) )\n",
    "model.add( Conv2D( 100, (3, 3), activation='relu' ))\n",
    "model.add( BatchNormalization() )\n",
    "model.add( MaxPooling2D( pool_size = (2, 2) )) \n",
    "model.add( Dropout(0.5) )\n",
    "model.add( Flatten() )\n",
    "model.add( Dense( 128, activation='relu' ))\n",
    "model.add( Dropout(0.5))\n",
    "model.add( Dense( 6, activation='softmax' ))\n",
    "model.summary()\n",
    "model.compile( loss=keras.losses.categorical_crossentropy, optimizer=keras.optimizers.Adadelta(), metrics=['accuracy'] )\n",
    "history = model.fit( X_train, Y_train, batch_size=batch_size, epochs=epochs, verbose=1, validation_data=(X_test, Y_test) )"
   ]
  },
  {
   "cell_type": "markdown",
   "metadata": {},
   "source": [
    "##  3 LAYER CNN:"
   ]
  },
  {
   "cell_type": "markdown",
   "metadata": {},
   "source": [
    " ### ARCHITECTURE  2:"
   ]
  },
  {
   "cell_type": "code",
   "execution_count": 57,
   "metadata": {
    "colab": {
     "base_uri": "https://localhost:8080/",
     "height": 1000
    },
    "colab_type": "code",
    "id": "6wGsIve8xHU0",
    "outputId": "1fcaf7af-4521-4301-bfe1-ba2204359473"
   },
   "outputs": [
    {
     "name": "stdout",
     "output_type": "stream",
     "text": [
      "Model: \"sequential_7\"\n",
      "_________________________________________________________________\n",
      "Layer (type)                 Output Shape              Param #   \n",
      "=================================================================\n",
      "conv2d_8 (Conv2D)            (None, 126, 7, 32)        320       \n",
      "_________________________________________________________________\n",
      "conv2d_9 (Conv2D)            (None, 124, 5, 64)        18496     \n",
      "_________________________________________________________________\n",
      "batch_normalization_3 (Batch (None, 124, 5, 64)        256       \n",
      "_________________________________________________________________\n",
      "dropout_12 (Dropout)         (None, 124, 5, 64)        0         \n",
      "_________________________________________________________________\n",
      "conv2d_10 (Conv2D)           (None, 122, 3, 90)        51930     \n",
      "_________________________________________________________________\n",
      "batch_normalization_4 (Batch (None, 122, 3, 90)        360       \n",
      "_________________________________________________________________\n",
      "max_pooling2d_2 (MaxPooling2 (None, 61, 1, 90)         0         \n",
      "_________________________________________________________________\n",
      "dropout_13 (Dropout)         (None, 61, 1, 90)         0         \n",
      "_________________________________________________________________\n",
      "flatten_5 (Flatten)          (None, 5490)              0         \n",
      "_________________________________________________________________\n",
      "dense_10 (Dense)             (None, 128)               702848    \n",
      "_________________________________________________________________\n",
      "dropout_14 (Dropout)         (None, 128)               0         \n",
      "_________________________________________________________________\n",
      "dense_11 (Dense)             (None, 6)                 774       \n",
      "=================================================================\n",
      "Total params: 774,984\n",
      "Trainable params: 774,676\n",
      "Non-trainable params: 308\n",
      "_________________________________________________________________\n",
      "Train on 7352 samples, validate on 2947 samples\n",
      "Epoch 1/30\n",
      "7352/7352 [==============================] - 12s 2ms/step - loss: 0.7202 - acc: 0.7406 - val_loss: 0.7822 - val_acc: 0.7818\n",
      "Epoch 2/30\n",
      "7352/7352 [==============================] - 10s 1ms/step - loss: 0.2914 - acc: 0.9022 - val_loss: 0.3059 - val_acc: 0.8975\n",
      "Epoch 3/30\n",
      "7352/7352 [==============================] - 10s 1ms/step - loss: 0.2208 - acc: 0.9193 - val_loss: 0.3427 - val_acc: 0.8863\n",
      "Epoch 4/30\n",
      "7352/7352 [==============================] - 10s 1ms/step - loss: 0.1957 - acc: 0.9305 - val_loss: 0.3488 - val_acc: 0.9158\n",
      "Epoch 5/30\n",
      "7352/7352 [==============================] - 11s 1ms/step - loss: 0.1885 - acc: 0.9300 - val_loss: 0.4504 - val_acc: 0.8951\n",
      "Epoch 6/30\n",
      "7352/7352 [==============================] - 11s 2ms/step - loss: 0.1671 - acc: 0.9381 - val_loss: 0.4230 - val_acc: 0.9013\n",
      "Epoch 7/30\n",
      "7352/7352 [==============================] - 11s 1ms/step - loss: 0.1613 - acc: 0.9400 - val_loss: 0.4806 - val_acc: 0.8894\n",
      "Epoch 8/30\n",
      "7352/7352 [==============================] - 11s 1ms/step - loss: 0.1660 - acc: 0.9402 - val_loss: 0.3719 - val_acc: 0.8951\n",
      "Epoch 9/30\n",
      "7352/7352 [==============================] - 11s 2ms/step - loss: 0.1533 - acc: 0.9438 - val_loss: 0.3392 - val_acc: 0.9220\n",
      "Epoch 10/30\n",
      "7352/7352 [==============================] - 11s 1ms/step - loss: 0.1465 - acc: 0.9436 - val_loss: 0.2847 - val_acc: 0.9118\n",
      "Epoch 11/30\n",
      "7352/7352 [==============================] - 11s 1ms/step - loss: 0.1399 - acc: 0.9463 - val_loss: 0.4905 - val_acc: 0.8958\n",
      "Epoch 12/30\n",
      "7352/7352 [==============================] - 11s 1ms/step - loss: 0.1314 - acc: 0.9498 - val_loss: 0.5529 - val_acc: 0.9057\n",
      "Epoch 13/30\n",
      "7352/7352 [==============================] - 11s 1ms/step - loss: 0.1342 - acc: 0.9512 - val_loss: 0.3104 - val_acc: 0.9277\n",
      "Epoch 14/30\n",
      "7352/7352 [==============================] - 11s 1ms/step - loss: 0.1337 - acc: 0.9533 - val_loss: 0.3733 - val_acc: 0.9284\n",
      "Epoch 15/30\n",
      "7352/7352 [==============================] - 11s 1ms/step - loss: 0.1236 - acc: 0.9593 - val_loss: 0.4432 - val_acc: 0.9348\n",
      "Epoch 16/30\n",
      "7352/7352 [==============================] - 11s 1ms/step - loss: 0.1110 - acc: 0.9600 - val_loss: 0.4784 - val_acc: 0.9284\n",
      "Epoch 17/30\n",
      "7352/7352 [==============================] - 11s 2ms/step - loss: 0.1089 - acc: 0.9593 - val_loss: 0.4517 - val_acc: 0.9253\n",
      "Epoch 18/30\n",
      "7352/7352 [==============================] - 11s 1ms/step - loss: 0.1069 - acc: 0.9633 - val_loss: 0.5359 - val_acc: 0.9291\n",
      "Epoch 19/30\n",
      "7352/7352 [==============================] - 11s 1ms/step - loss: 0.1003 - acc: 0.9653 - val_loss: 0.4305 - val_acc: 0.9040\n",
      "Epoch 20/30\n",
      "7352/7352 [==============================] - 11s 2ms/step - loss: 0.0957 - acc: 0.9644 - val_loss: 0.5554 - val_acc: 0.9070\n",
      "Epoch 21/30\n",
      "7352/7352 [==============================] - 11s 1ms/step - loss: 0.0932 - acc: 0.9691 - val_loss: 0.5607 - val_acc: 0.9152\n",
      "Epoch 22/30\n",
      "7352/7352 [==============================] - 11s 2ms/step - loss: 0.0969 - acc: 0.9690 - val_loss: 0.4876 - val_acc: 0.9189\n",
      "Epoch 23/30\n",
      "7352/7352 [==============================] - 11s 1ms/step - loss: 0.0818 - acc: 0.9686 - val_loss: 0.4108 - val_acc: 0.9396\n",
      "Epoch 24/30\n",
      "7352/7352 [==============================] - 11s 1ms/step - loss: 0.0887 - acc: 0.9708 - val_loss: 0.4953 - val_acc: 0.9209\n",
      "Epoch 25/30\n",
      "7352/7352 [==============================] - 11s 2ms/step - loss: 0.0818 - acc: 0.9716 - val_loss: 0.4670 - val_acc: 0.9203\n",
      "Epoch 26/30\n",
      "7352/7352 [==============================] - 11s 2ms/step - loss: 0.0818 - acc: 0.9724 - val_loss: 0.3179 - val_acc: 0.9454\n",
      "Epoch 27/30\n",
      "7352/7352 [==============================] - 11s 2ms/step - loss: 0.0805 - acc: 0.9706 - val_loss: 0.4068 - val_acc: 0.9308\n",
      "Epoch 28/30\n",
      "7352/7352 [==============================] - 11s 2ms/step - loss: 0.0765 - acc: 0.9725 - val_loss: 0.3715 - val_acc: 0.9413\n",
      "Epoch 29/30\n",
      "7352/7352 [==============================] - 11s 1ms/step - loss: 0.0758 - acc: 0.9728 - val_loss: 0.3645 - val_acc: 0.9444\n",
      "Epoch 30/30\n",
      "7352/7352 [==============================] - 11s 2ms/step - loss: 0.0759 - acc: 0.9744 - val_loss: 0.2833 - val_acc: 0.9518\n"
     ]
    }
   ],
   "source": [
    "from keras.layers.normalization import BatchNormalization\n",
    "\n",
    "model = Sequential()\n",
    "\n",
    "model.add( Conv2D( 32, kernel_size = (3, 3), activation='relu', input_shape = inputShape ))\n",
    "model.add( Conv2D( 64, (3, 3), activation='relu' ))\n",
    "model.add( BatchNormalization() )\n",
    "model.add( Dropout(0.25) )\n",
    "model.add( Conv2D( 90, (3, 3), activation='relu' ))\n",
    "model.add( BatchNormalization() )\n",
    "model.add( MaxPooling2D( pool_size = (2, 2) )) \n",
    "model.add( Dropout(0.3) )\n",
    "model.add( Flatten() )\n",
    "model.add( Dense( 128, activation='relu' ))\n",
    "model.add( Dropout(0.5))\n",
    "model.add( Dense( 6, activation='softmax' ))\n",
    "model.summary()\n",
    "model.compile( loss=keras.losses.categorical_crossentropy, optimizer=keras.optimizers.Adadelta(), metrics=['accuracy'] )\n",
    "history = model.fit( X_train, Y_train, batch_size=batch_size, epochs=epochs, verbose=1, validation_data=(X_test, Y_test) )"
   ]
  },
  {
   "cell_type": "code",
   "execution_count": 58,
   "metadata": {
    "colab": {
     "base_uri": "https://localhost:8080/",
     "height": 199
    },
    "colab_type": "code",
    "id": "2zdh040gy9Ef",
    "outputId": "9881bbd1-3f24-44f2-fffd-5c3bfd988b4b"
   },
   "outputs": [
    {
     "name": "stdout",
     "output_type": "stream",
     "text": [
      "Pred                LAYING  SITTING  ...  WALKING_DOWNSTAIRS  WALKING_UPSTAIRS\n",
      "True                                 ...                                      \n",
      "LAYING                 537        0  ...                   0                 0\n",
      "SITTING                  0      461  ...                   0                 1\n",
      "STANDING                 0       43  ...                   0                 0\n",
      "WALKING                  0        0  ...                   6                24\n",
      "WALKING_DOWNSTAIRS       0       10  ...                 402                 6\n",
      "WALKING_UPSTAIRS         0        0  ...                  15               451\n",
      "\n",
      "[6 rows x 6 columns]\n"
     ]
    }
   ],
   "source": [
    "# Confusion Matrix\n",
    "print(confusion_matrix(Y_test, model.predict(X_test)))"
   ]
  },
  {
   "cell_type": "code",
   "execution_count": 59,
   "metadata": {
    "colab": {
     "base_uri": "https://localhost:8080/",
     "height": 53
    },
    "colab_type": "code",
    "id": "_7whXlRm0Vzv",
    "outputId": "e9e33954-b573-4e06-d283-57eaf7b1c5c1"
   },
   "outputs": [
    {
     "name": "stdout",
     "output_type": "stream",
     "text": [
      "2947/2947 [==============================] - 1s 217us/step\n"
     ]
    },
    {
     "data": {
      "text/plain": [
       "[0.2833208475548645, 0.9518154054971157]"
      ]
     },
     "execution_count": 59,
     "metadata": {
      "tags": []
     },
     "output_type": "execute_result"
    }
   ],
   "source": [
    "score = model.evaluate(X_test, Y_test)\n",
    "score"
   ]
  },
  {
   "cell_type": "code",
   "execution_count": 60,
   "metadata": {
    "colab": {
     "base_uri": "https://localhost:8080/",
     "height": 283
    },
    "colab_type": "code",
    "id": "5qQCf2Bu0Zit",
    "outputId": "aedff8da-b8b8-488e-8744-58bbbdeca549"
   },
   "outputs": [
    {
     "data": {
      "image/png": "[encoded data removed]",
      "text/plain": [
       "<Figure size 432x288 with 1 Axes>"
      ]
     },
     "metadata": {
      "tags": []
     },
     "output_type": "display_data"
    }
   ],
   "source": [
    "fig,ax = plt.subplots(1,1)\n",
    "ax.set_xlabel('epoch') ; ax.set_ylabel('Categorical Crossentropy Loss')\n",
    "x = list(range(1,epochs+1))\n",
    "vy = history.history['val_loss']\n",
    "ty = history.history['loss']\n",
    "plt_dynamic(x, vy, ty, ax)"
   ]
  },
  {
   "cell_type": "markdown",
   "metadata": {},
   "source": [
    "## 3 LAYER CNN:"
   ]
  },
  {
   "cell_type": "markdown",
   "metadata": {},
   "source": [
    " ### ARCHITECTURE  3:"
   ]
  },
  {
   "cell_type": "code",
   "execution_count": 69,
   "metadata": {
    "colab": {
     "base_uri": "https://localhost:8080/",
     "height": 1000
    },
    "colab_type": "code",
    "id": "gady8rTN0eGp",
    "outputId": "ca97dc34-cda9-4a56-87bf-26f0971e6e7d"
   },
   "outputs": [
    {
     "name": "stdout",
     "output_type": "stream",
     "text": [
      "Model: \"sequential_16\"\n",
      "_________________________________________________________________\n",
      "Layer (type)                 Output Shape              Param #   \n",
      "=================================================================\n",
      "conv2d_38 (Conv2D)           (None, 126, 7, 100)       1000      \n",
      "_________________________________________________________________\n",
      "conv2d_39 (Conv2D)           (None, 124, 5, 120)       108120    \n",
      "_________________________________________________________________\n",
      "batch_normalization_19 (Batc (None, 124, 5, 120)       480       \n",
      "_________________________________________________________________\n",
      "dropout_30 (Dropout)         (None, 124, 5, 120)       0         \n",
      "_________________________________________________________________\n",
      "conv2d_40 (Conv2D)           (None, 122, 3, 160)       172960    \n",
      "_________________________________________________________________\n",
      "batch_normalization_20 (Batc (None, 122, 3, 160)       640       \n",
      "_________________________________________________________________\n",
      "max_pooling2d_12 (MaxPooling (None, 61, 1, 160)        0         \n",
      "_________________________________________________________________\n",
      "dropout_31 (Dropout)         (None, 61, 1, 160)        0         \n",
      "_________________________________________________________________\n",
      "flatten_9 (Flatten)          (None, 9760)              0         \n",
      "_________________________________________________________________\n",
      "dense_18 (Dense)             (None, 200)               1952200   \n",
      "_________________________________________________________________\n",
      "dropout_32 (Dropout)         (None, 200)               0         \n",
      "_________________________________________________________________\n",
      "dense_19 (Dense)             (None, 6)                 1206      \n",
      "=================================================================\n",
      "Total params: 2,236,606\n",
      "Trainable params: 2,236,046\n",
      "Non-trainable params: 560\n",
      "_________________________________________________________________\n",
      "Train on 7352 samples, validate on 2947 samples\n",
      "Epoch 1/30\n",
      "7352/7352 [==============================] - 15s 2ms/step - loss: 1.1225 - acc: 0.6965 - val_loss: 0.4831 - val_acc: 0.8453\n",
      "Epoch 2/30\n",
      "7352/7352 [==============================] - 13s 2ms/step - loss: 0.3473 - acc: 0.8753 - val_loss: 0.3021 - val_acc: 0.9186\n",
      "Epoch 3/30\n",
      "7352/7352 [==============================] - 13s 2ms/step - loss: 0.2420 - acc: 0.9123 - val_loss: 0.2886 - val_acc: 0.9118\n",
      "Epoch 4/30\n",
      "7352/7352 [==============================] - 13s 2ms/step - loss: 0.1962 - acc: 0.9267 - val_loss: 0.3656 - val_acc: 0.9094\n",
      "Epoch 5/30\n",
      "7352/7352 [==============================] - 13s 2ms/step - loss: 0.1804 - acc: 0.9304 - val_loss: 0.4115 - val_acc: 0.9097\n",
      "Epoch 6/30\n",
      "7352/7352 [==============================] - 13s 2ms/step - loss: 0.1839 - acc: 0.9338 - val_loss: 0.3349 - val_acc: 0.8989\n",
      "Epoch 7/30\n",
      "7352/7352 [==============================] - 13s 2ms/step - loss: 0.1651 - acc: 0.9385 - val_loss: 0.3380 - val_acc: 0.9206\n",
      "Epoch 8/30\n",
      "7352/7352 [==============================] - 13s 2ms/step - loss: 0.1585 - acc: 0.9410 - val_loss: 0.2628 - val_acc: 0.9243\n",
      "Epoch 9/30\n",
      "7352/7352 [==============================] - 13s 2ms/step - loss: 0.1598 - acc: 0.9433 - val_loss: 0.4758 - val_acc: 0.9131\n",
      "Epoch 10/30\n",
      "7352/7352 [==============================] - 13s 2ms/step - loss: 0.1514 - acc: 0.9474 - val_loss: 0.3548 - val_acc: 0.9016\n",
      "Epoch 11/30\n",
      "7352/7352 [==============================] - 13s 2ms/step - loss: 0.1640 - acc: 0.9487 - val_loss: 0.3938 - val_acc: 0.9203\n",
      "Epoch 12/30\n",
      "7352/7352 [==============================] - 13s 2ms/step - loss: 0.1367 - acc: 0.9476 - val_loss: 0.3168 - val_acc: 0.9220\n",
      "Epoch 13/30\n",
      "7352/7352 [==============================] - 13s 2ms/step - loss: 0.1375 - acc: 0.9509 - val_loss: 0.2471 - val_acc: 0.9321\n",
      "Epoch 14/30\n",
      "7352/7352 [==============================] - 13s 2ms/step - loss: 0.1396 - acc: 0.9527 - val_loss: 0.3618 - val_acc: 0.9141\n",
      "Epoch 15/30\n",
      "7352/7352 [==============================] - 13s 2ms/step - loss: 0.1243 - acc: 0.9563 - val_loss: 0.3416 - val_acc: 0.9216\n",
      "Epoch 16/30\n",
      "7352/7352 [==============================] - 13s 2ms/step - loss: 0.1197 - acc: 0.9565 - val_loss: 0.3120 - val_acc: 0.9396\n",
      "Epoch 17/30\n",
      "7352/7352 [==============================] - 13s 2ms/step - loss: 0.1150 - acc: 0.9621 - val_loss: 0.2479 - val_acc: 0.9450\n",
      "Epoch 18/30\n",
      "7352/7352 [==============================] - 13s 2ms/step - loss: 0.1112 - acc: 0.9626 - val_loss: 0.2135 - val_acc: 0.9488\n",
      "Epoch 19/30\n",
      "7352/7352 [==============================] - 13s 2ms/step - loss: 0.1078 - acc: 0.9641 - val_loss: 0.2834 - val_acc: 0.9253\n",
      "Epoch 20/30\n",
      "7352/7352 [==============================] - 13s 2ms/step - loss: 0.0983 - acc: 0.9644 - val_loss: 0.2199 - val_acc: 0.9464\n",
      "Epoch 21/30\n",
      "7352/7352 [==============================] - 13s 2ms/step - loss: 0.1043 - acc: 0.9687 - val_loss: 0.2341 - val_acc: 0.9467\n",
      "Epoch 22/30\n",
      "7352/7352 [==============================] - 13s 2ms/step - loss: 0.0967 - acc: 0.9661 - val_loss: 0.3509 - val_acc: 0.9467\n",
      "Epoch 23/30\n",
      "7352/7352 [==============================] - 13s 2ms/step - loss: 0.0971 - acc: 0.9683 - val_loss: 0.4122 - val_acc: 0.9152\n",
      "Epoch 24/30\n",
      "7352/7352 [==============================] - 13s 2ms/step - loss: 0.0925 - acc: 0.9699 - val_loss: 0.1910 - val_acc: 0.9552\n",
      "Epoch 25/30\n",
      "7352/7352 [==============================] - 13s 2ms/step - loss: 0.0877 - acc: 0.9739 - val_loss: 0.2537 - val_acc: 0.9345\n",
      "Epoch 26/30\n",
      "7352/7352 [==============================] - 13s 2ms/step - loss: 0.0813 - acc: 0.9742 - val_loss: 0.3524 - val_acc: 0.9131\n",
      "Epoch 27/30\n",
      "7352/7352 [==============================] - 13s 2ms/step - loss: 0.0966 - acc: 0.9724 - val_loss: 0.2426 - val_acc: 0.9444\n",
      "Epoch 28/30\n",
      "7352/7352 [==============================] - 13s 2ms/step - loss: 0.0768 - acc: 0.9769 - val_loss: 0.2245 - val_acc: 0.9596\n",
      "Epoch 29/30\n",
      "7352/7352 [==============================] - 13s 2ms/step - loss: 0.0854 - acc: 0.9740 - val_loss: 0.3263 - val_acc: 0.9525\n",
      "Epoch 30/30\n",
      "7352/7352 [==============================] - 13s 2ms/step - loss: 0.0791 - acc: 0.9733 - val_loss: 0.2342 - val_acc: 0.9528\n"
     ]
    }
   ],
   "source": [
    "from keras.layers.normalization import BatchNormalization\n",
    "\n",
    "model = Sequential()\n",
    "\n",
    "model.add( Conv2D( 100, kernel_size = (3, 3), activation='relu', input_shape = inputShape ))\n",
    "model.add( Conv2D( 120, (3, 3), activation='relu' ))\n",
    "model.add( BatchNormalization() )\n",
    "model.add( Dropout(0.25) )\n",
    "model.add( Conv2D( 160, (3, 3), activation='relu' ))\n",
    "model.add( BatchNormalization() )\n",
    "model.add( MaxPooling2D( pool_size = (2, 2) )) \n",
    "model.add( Dropout(0.3) )\n",
    "model.add( Flatten() )\n",
    "model.add( Dense( 200, activation='relu' ))\n",
    "model.add( Dropout(0.5))\n",
    "model.add( Dense( 6, activation='softmax' ))\n",
    "model.summary()\n",
    "model.compile( loss=keras.losses.categorical_crossentropy, optimizer=keras.optimizers.Adadelta(), metrics=['accuracy'] )\n",
    "history = model.fit( X_train, Y_train, batch_size=batch_size, epochs=epochs, verbose=1, validation_data=(X_test, Y_test) )"
   ]
  },
  {
   "cell_type": "code",
   "execution_count": 70,
   "metadata": {
    "colab": {
     "base_uri": "https://localhost:8080/",
     "height": 199
    },
    "colab_type": "code",
    "id": "LQoQfSXQHVQk",
    "outputId": "839714f6-ae05-48ce-f05f-c0ff8f3ca43a"
   },
   "outputs": [
    {
     "name": "stdout",
     "output_type": "stream",
     "text": [
      "Pred                LAYING  SITTING  ...  WALKING_DOWNSTAIRS  WALKING_UPSTAIRS\n",
      "True                                 ...                                      \n",
      "LAYING                 537        0  ...                   0                 0\n",
      "SITTING                  0      427  ...                   0                 1\n",
      "STANDING                 0       22  ...                   0                 0\n",
      "WALKING                  0        3  ...                   9                10\n",
      "WALKING_DOWNSTAIRS       0        1  ...                 408                 8\n",
      "WALKING_UPSTAIRS         0        3  ...                  11               453\n",
      "\n",
      "[6 rows x 6 columns]\n"
     ]
    }
   ],
   "source": [
    "# Confusion Matrix\n",
    "print(confusion_matrix(Y_test, model.predict(X_test)))"
   ]
  },
  {
   "cell_type": "code",
   "execution_count": 71,
   "metadata": {
    "colab": {
     "base_uri": "https://localhost:8080/",
     "height": 283
    },
    "colab_type": "code",
    "id": "OEhY4mtONE8L",
    "outputId": "f7034736-2422-4796-bb95-c89608329d7e"
   },
   "outputs": [
    {
     "data": {
      "image/png": "[encoded data removed]",
      "text/plain": [
       "<Figure size 432x288 with 1 Axes>"
      ]
     },
     "metadata": {
      "tags": []
     },
     "output_type": "display_data"
    }
   ],
   "source": [
    "fig,ax = plt.subplots(1,1)\n",
    "ax.set_xlabel('epoch') ; ax.set_ylabel('Categorical Crossentropy Loss')\n",
    "x = list(range(1,epochs+1))\n",
    "vy = history.history['val_loss']\n",
    "ty = history.history['loss']\n",
    "plt_dynamic(x, vy, ty, ax)"
   ]
  },
  {
   "cell_type": "markdown",
   "metadata": {},
   "source": [
    "## 3 LAYER CNN:"
   ]
  },
  {
   "cell_type": "markdown",
   "metadata": {},
   "source": [
    " ### ARCHITECTURE  4:"
   ]
  },
  {
   "cell_type": "code",
   "execution_count": 72,
   "metadata": {
    "colab": {
     "base_uri": "https://localhost:8080/",
     "height": 1000
    },
    "colab_type": "code",
    "id": "gvFDV861NIyy",
    "outputId": "18aeffa9-a2d1-4c4e-80d1-a70583eb0e35"
   },
   "outputs": [
    {
     "name": "stdout",
     "output_type": "stream",
     "text": [
      "Model: \"sequential_17\"\n",
      "_________________________________________________________________\n",
      "Layer (type)                 Output Shape              Param #   \n",
      "=================================================================\n",
      "conv2d_41 (Conv2D)           (None, 126, 7, 100)       1000      \n",
      "_________________________________________________________________\n",
      "conv2d_42 (Conv2D)           (None, 124, 5, 130)       117130    \n",
      "_________________________________________________________________\n",
      "batch_normalization_21 (Batc (None, 124, 5, 130)       520       \n",
      "_________________________________________________________________\n",
      "dropout_33 (Dropout)         (None, 124, 5, 130)       0         \n",
      "_________________________________________________________________\n",
      "conv2d_43 (Conv2D)           (None, 122, 3, 160)       187360    \n",
      "_________________________________________________________________\n",
      "batch_normalization_22 (Batc (None, 122, 3, 160)       640       \n",
      "_________________________________________________________________\n",
      "max_pooling2d_13 (MaxPooling (None, 61, 1, 160)        0         \n",
      "_________________________________________________________________\n",
      "dropout_34 (Dropout)         (None, 61, 1, 160)        0         \n",
      "_________________________________________________________________\n",
      "flatten_10 (Flatten)         (None, 9760)              0         \n",
      "_________________________________________________________________\n",
      "dense_20 (Dense)             (None, 220)               2147420   \n",
      "_________________________________________________________________\n",
      "dropout_35 (Dropout)         (None, 220)               0         \n",
      "_________________________________________________________________\n",
      "dense_21 (Dense)             (None, 6)                 1326      \n",
      "=================================================================\n",
      "Total params: 2,455,396\n",
      "Trainable params: 2,454,816\n",
      "Non-trainable params: 580\n",
      "_________________________________________________________________\n",
      "Train on 7352 samples, validate on 2947 samples\n",
      "Epoch 1/30\n",
      "7352/7352 [==============================] - 18s 2ms/step - loss: 0.9816 - acc: 0.7350 - val_loss: 0.4653 - val_acc: 0.8748\n",
      "Epoch 2/30\n",
      "7352/7352 [==============================] - 14s 2ms/step - loss: 0.3044 - acc: 0.8912 - val_loss: 0.4408 - val_acc: 0.8541\n",
      "Epoch 3/30\n",
      "7352/7352 [==============================] - 14s 2ms/step - loss: 0.2221 - acc: 0.9222 - val_loss: 0.3515 - val_acc: 0.9046\n",
      "Epoch 4/30\n",
      "7352/7352 [==============================] - 14s 2ms/step - loss: 0.1895 - acc: 0.9282 - val_loss: 0.4212 - val_acc: 0.8629\n",
      "Epoch 5/30\n",
      "7352/7352 [==============================] - 14s 2ms/step - loss: 0.1845 - acc: 0.9319 - val_loss: 0.3076 - val_acc: 0.9145\n",
      "Epoch 6/30\n",
      "7352/7352 [==============================] - 14s 2ms/step - loss: 0.1747 - acc: 0.9374 - val_loss: 0.4509 - val_acc: 0.8823\n",
      "Epoch 7/30\n",
      "7352/7352 [==============================] - 14s 2ms/step - loss: 0.1656 - acc: 0.9419 - val_loss: 0.2694 - val_acc: 0.9260\n",
      "Epoch 8/30\n",
      "7352/7352 [==============================] - 14s 2ms/step - loss: 0.1612 - acc: 0.9468 - val_loss: 0.3691 - val_acc: 0.9175\n",
      "Epoch 9/30\n",
      "7352/7352 [==============================] - 14s 2ms/step - loss: 0.1569 - acc: 0.9456 - val_loss: 0.3434 - val_acc: 0.9162\n",
      "Epoch 10/30\n",
      "7352/7352 [==============================] - 14s 2ms/step - loss: 0.1453 - acc: 0.9468 - val_loss: 0.3700 - val_acc: 0.9101\n",
      "Epoch 11/30\n",
      "7352/7352 [==============================] - 14s 2ms/step - loss: 0.1421 - acc: 0.9482 - val_loss: 0.3864 - val_acc: 0.9169\n",
      "Epoch 12/30\n",
      "7352/7352 [==============================] - 14s 2ms/step - loss: 0.1350 - acc: 0.9514 - val_loss: 0.3430 - val_acc: 0.9287\n",
      "Epoch 13/30\n",
      "7352/7352 [==============================] - 14s 2ms/step - loss: 0.1304 - acc: 0.9529 - val_loss: 0.4657 - val_acc: 0.9141\n",
      "Epoch 14/30\n",
      "7352/7352 [==============================] - 14s 2ms/step - loss: 0.1394 - acc: 0.9553 - val_loss: 0.4319 - val_acc: 0.9237\n",
      "Epoch 15/30\n",
      "7352/7352 [==============================] - 14s 2ms/step - loss: 0.1201 - acc: 0.9577 - val_loss: 0.4058 - val_acc: 0.9247\n",
      "Epoch 16/30\n",
      "7352/7352 [==============================] - 14s 2ms/step - loss: 0.1246 - acc: 0.9565 - val_loss: 0.4746 - val_acc: 0.9216\n",
      "Epoch 17/30\n",
      "7352/7352 [==============================] - 14s 2ms/step - loss: 0.1312 - acc: 0.9559 - val_loss: 0.5085 - val_acc: 0.9111\n",
      "Epoch 18/30\n",
      "7352/7352 [==============================] - 14s 2ms/step - loss: 0.1278 - acc: 0.9589 - val_loss: 0.5765 - val_acc: 0.8972\n",
      "Epoch 19/30\n",
      "7352/7352 [==============================] - 14s 2ms/step - loss: 0.1142 - acc: 0.9589 - val_loss: 0.5438 - val_acc: 0.9304\n",
      "Epoch 20/30\n",
      "7352/7352 [==============================] - 14s 2ms/step - loss: 0.1169 - acc: 0.9629 - val_loss: 0.6481 - val_acc: 0.8996\n",
      "Epoch 21/30\n",
      "7352/7352 [==============================] - 14s 2ms/step - loss: 0.1126 - acc: 0.9623 - val_loss: 0.5850 - val_acc: 0.9165\n",
      "Epoch 22/30\n",
      "7352/7352 [==============================] - 14s 2ms/step - loss: 0.1132 - acc: 0.9623 - val_loss: 0.4165 - val_acc: 0.9332\n",
      "Epoch 23/30\n",
      "7352/7352 [==============================] - 14s 2ms/step - loss: 0.0987 - acc: 0.9655 - val_loss: 0.4284 - val_acc: 0.9393\n",
      "Epoch 24/30\n",
      "7352/7352 [==============================] - 14s 2ms/step - loss: 0.1038 - acc: 0.9641 - val_loss: 0.4733 - val_acc: 0.9277\n",
      "Epoch 25/30\n",
      "7352/7352 [==============================] - 14s 2ms/step - loss: 0.0983 - acc: 0.9674 - val_loss: 0.4137 - val_acc: 0.9430\n",
      "Epoch 26/30\n",
      "7352/7352 [==============================] - 14s 2ms/step - loss: 0.0950 - acc: 0.9706 - val_loss: 0.6006 - val_acc: 0.9084\n",
      "Epoch 27/30\n",
      "7352/7352 [==============================] - 14s 2ms/step - loss: 0.0991 - acc: 0.9693 - val_loss: 0.4320 - val_acc: 0.9308\n",
      "Epoch 28/30\n",
      "7352/7352 [==============================] - 14s 2ms/step - loss: 0.0903 - acc: 0.9708 - val_loss: 0.5619 - val_acc: 0.9165\n",
      "Epoch 29/30\n",
      "7352/7352 [==============================] - 14s 2ms/step - loss: 0.0848 - acc: 0.9720 - val_loss: 0.5789 - val_acc: 0.9169\n",
      "Epoch 30/30\n",
      "7352/7352 [==============================] - 14s 2ms/step - loss: 0.0788 - acc: 0.9748 - val_loss: 0.4314 - val_acc: 0.9403\n"
     ]
    }
   ],
   "source": [
    "from keras.layers.normalization import BatchNormalization\n",
    "\n",
    "model = Sequential()\n",
    "\n",
    "model.add( Conv2D( 100, kernel_size = (3, 3), activation='relu', input_shape = inputShape ))\n",
    "model.add( Conv2D( 130, (3, 3), activation='relu' ))\n",
    "model.add( BatchNormalization() )\n",
    "model.add( Dropout(0.25) )\n",
    "model.add( Conv2D( 160, (3, 3), activation='relu' ))\n",
    "model.add( BatchNormalization() )\n",
    "model.add( MaxPooling2D( pool_size = (2, 2) )) \n",
    "model.add( Dropout(0.4) )\n",
    "model.add( Flatten() )\n",
    "model.add( Dense( 220, activation='relu' ))\n",
    "model.add( Dropout(0.5))\n",
    "model.add( Dense( 6, activation='softmax' ))\n",
    "model.summary()\n",
    "model.compile( loss=keras.losses.categorical_crossentropy, optimizer=keras.optimizers.Adadelta(), metrics=['accuracy'] )\n",
    "history = model.fit( X_train, Y_train, batch_size=batch_size, epochs=epochs, verbose=1, validation_data=(X_test, Y_test) )"
   ]
  },
  {
   "cell_type": "code",
   "execution_count": 73,
   "metadata": {
    "colab": {
     "base_uri": "https://localhost:8080/",
     "height": 199
    },
    "colab_type": "code",
    "id": "VL-S0BVzNTtr",
    "outputId": "6b5d6dce-7d8e-4138-ed3d-26c6508e730c"
   },
   "outputs": [
    {
     "name": "stdout",
     "output_type": "stream",
     "text": [
      "Pred                LAYING  SITTING  ...  WALKING_DOWNSTAIRS  WALKING_UPSTAIRS\n",
      "True                                 ...                                      \n",
      "LAYING                 516        0  ...                   0                21\n",
      "SITTING                  1      420  ...                   0                 0\n",
      "STANDING                 0       13  ...                   0                 0\n",
      "WALKING                  0        0  ...                  28                 8\n",
      "WALKING_DOWNSTAIRS       0        0  ...                 420                 0\n",
      "WALKING_UPSTAIRS         0        0  ...                  26               436\n",
      "\n",
      "[6 rows x 6 columns]\n"
     ]
    }
   ],
   "source": [
    "# Confusion Matrix\n",
    "print(confusion_matrix(Y_test, model.predict(X_test)))"
   ]
  },
  {
   "cell_type": "code",
   "execution_count": 74,
   "metadata": {
    "colab": {
     "base_uri": "https://localhost:8080/",
     "height": 283
    },
    "colab_type": "code",
    "id": "oJmeBOgSPFAX",
    "outputId": "12956c08-a818-41e9-917f-a0c42b95f473"
   },
   "outputs": [
    {
     "data": {
      "image/png": "[encoded data removed]",
      "text/plain": [
       "<Figure size 432x288 with 1 Axes>"
      ]
     },
     "metadata": {
      "tags": []
     },
     "output_type": "display_data"
    }
   ],
   "source": [
    "fig,ax = plt.subplots(1,1)\n",
    "ax.set_xlabel('epoch') ; ax.set_ylabel('Categorical Crossentropy Loss')\n",
    "x = list(range(1,epochs+1))\n",
    "vy = history.history['val_loss']\n",
    "ty = history.history['loss']\n",
    "plt_dynamic(x, vy, ty, ax)"
   ]
  },
  {
   "cell_type": "markdown",
   "metadata": {},
   "source": [
    "## 3 LAYER CNN:"
   ]
  },
  {
   "cell_type": "markdown",
   "metadata": {},
   "source": [
    " ### ARCHITECTURE  5:"
   ]
  },
  {
   "cell_type": "code",
   "execution_count": 92,
   "metadata": {
    "colab": {
     "base_uri": "https://localhost:8080/",
     "height": 1000
    },
    "colab_type": "code",
    "id": "UHHFWeYBPIZ7",
    "outputId": "afd25a48-6065-4f67-a194-9f479f380563"
   },
   "outputs": [
    {
     "name": "stdout",
     "output_type": "stream",
     "text": [
      "Model: \"sequential_35\"\n",
      "_________________________________________________________________\n",
      "Layer (type)                 Output Shape              Param #   \n",
      "=================================================================\n",
      "conv2d_95 (Conv2D)           (None, 126, 7, 100)       1000      \n",
      "_________________________________________________________________\n",
      "conv2d_96 (Conv2D)           (None, 124, 5, 120)       108120    \n",
      "_________________________________________________________________\n",
      "conv2d_97 (Conv2D)           (None, 122, 3, 160)       172960    \n",
      "_________________________________________________________________\n",
      "batch_normalization_57 (Batc (None, 122, 3, 160)       640       \n",
      "_________________________________________________________________\n",
      "max_pooling2d_31 (MaxPooling (None, 61, 1, 160)        0         \n",
      "_________________________________________________________________\n",
      "dropout_87 (Dropout)         (None, 61, 1, 160)        0         \n",
      "_________________________________________________________________\n",
      "flatten_28 (Flatten)         (None, 9760)              0         \n",
      "_________________________________________________________________\n",
      "dense_56 (Dense)             (None, 200)               1952200   \n",
      "_________________________________________________________________\n",
      "dropout_88 (Dropout)         (None, 200)               0         \n",
      "_________________________________________________________________\n",
      "dense_57 (Dense)             (None, 6)                 1206      \n",
      "=================================================================\n",
      "Total params: 2,236,126\n",
      "Trainable params: 2,235,806\n",
      "Non-trainable params: 320\n",
      "_________________________________________________________________\n",
      "Train on 7352 samples, validate on 2947 samples\n",
      "Epoch 1/30\n",
      "7352/7352 [==============================] - 18s 2ms/step - loss: 0.6322 - acc: 0.8093 - val_loss: 0.4623 - val_acc: 0.8772\n",
      "Epoch 2/30\n",
      "7352/7352 [==============================] - 11s 2ms/step - loss: 0.1930 - acc: 0.9287 - val_loss: 0.4362 - val_acc: 0.9046\n",
      "Epoch 3/30\n",
      "7352/7352 [==============================] - 11s 2ms/step - loss: 0.1659 - acc: 0.9361 - val_loss: 0.5052 - val_acc: 0.9013\n",
      "Epoch 4/30\n",
      "7352/7352 [==============================] - 11s 2ms/step - loss: 0.1563 - acc: 0.9446 - val_loss: 0.6269 - val_acc: 0.8989\n",
      "Epoch 5/30\n",
      "7352/7352 [==============================] - 11s 2ms/step - loss: 0.1396 - acc: 0.9480 - val_loss: 0.4391 - val_acc: 0.9230\n",
      "Epoch 6/30\n",
      "7352/7352 [==============================] - 11s 2ms/step - loss: 0.1405 - acc: 0.9475 - val_loss: 0.4971 - val_acc: 0.8992\n",
      "Epoch 7/30\n",
      "7352/7352 [==============================] - 11s 2ms/step - loss: 0.1325 - acc: 0.9529 - val_loss: 0.4457 - val_acc: 0.9192\n",
      "Epoch 8/30\n",
      "7352/7352 [==============================] - 11s 2ms/step - loss: 0.1166 - acc: 0.9555 - val_loss: 0.5240 - val_acc: 0.9104\n",
      "Epoch 9/30\n",
      "7352/7352 [==============================] - 11s 2ms/step - loss: 0.1114 - acc: 0.9610 - val_loss: 0.6310 - val_acc: 0.8772\n",
      "Epoch 10/30\n",
      "7352/7352 [==============================] - 11s 2ms/step - loss: 0.1113 - acc: 0.9606 - val_loss: 0.4255 - val_acc: 0.9284\n",
      "Epoch 11/30\n",
      "7352/7352 [==============================] - 11s 2ms/step - loss: 0.0992 - acc: 0.9634 - val_loss: 0.5395 - val_acc: 0.9125\n",
      "Epoch 12/30\n",
      "7352/7352 [==============================] - 11s 2ms/step - loss: 0.0983 - acc: 0.9660 - val_loss: 0.5159 - val_acc: 0.9240\n",
      "Epoch 13/30\n",
      "7352/7352 [==============================] - 11s 2ms/step - loss: 0.0937 - acc: 0.9682 - val_loss: 0.4836 - val_acc: 0.9318\n",
      "Epoch 14/30\n",
      "7352/7352 [==============================] - 11s 2ms/step - loss: 0.0904 - acc: 0.9705 - val_loss: 0.4563 - val_acc: 0.9376\n",
      "Epoch 15/30\n",
      "7352/7352 [==============================] - 11s 2ms/step - loss: 0.0996 - acc: 0.9682 - val_loss: 0.3916 - val_acc: 0.9498\n",
      "Epoch 16/30\n",
      "7352/7352 [==============================] - 11s 2ms/step - loss: 0.0874 - acc: 0.9713 - val_loss: 0.4562 - val_acc: 0.9399\n",
      "Epoch 17/30\n",
      "7352/7352 [==============================] - 11s 2ms/step - loss: 0.0793 - acc: 0.9729 - val_loss: 0.3803 - val_acc: 0.9372\n",
      "Epoch 18/30\n",
      "7352/7352 [==============================] - 11s 2ms/step - loss: 0.0771 - acc: 0.9729 - val_loss: 0.5431 - val_acc: 0.9308\n",
      "Epoch 19/30\n",
      "7352/7352 [==============================] - 11s 2ms/step - loss: 0.0789 - acc: 0.9731 - val_loss: 0.4441 - val_acc: 0.9315\n",
      "Epoch 20/30\n",
      "7352/7352 [==============================] - 11s 2ms/step - loss: 0.0812 - acc: 0.9724 - val_loss: 0.5202 - val_acc: 0.9389\n",
      "Epoch 21/30\n",
      "7352/7352 [==============================] - 11s 2ms/step - loss: 0.0908 - acc: 0.9727 - val_loss: 0.7683 - val_acc: 0.9084\n",
      "Epoch 22/30\n",
      "7352/7352 [==============================] - 11s 2ms/step - loss: 0.0851 - acc: 0.9720 - val_loss: 0.5013 - val_acc: 0.9213\n",
      "Epoch 23/30\n",
      "7352/7352 [==============================] - 11s 2ms/step - loss: 0.0776 - acc: 0.9716 - val_loss: 0.4904 - val_acc: 0.9328\n",
      "Epoch 24/30\n",
      "7352/7352 [==============================] - 11s 2ms/step - loss: 0.0720 - acc: 0.9752 - val_loss: 0.5162 - val_acc: 0.9423\n",
      "Epoch 25/30\n",
      "7352/7352 [==============================] - 11s 2ms/step - loss: 0.0636 - acc: 0.9759 - val_loss: 0.4542 - val_acc: 0.9444\n",
      "Epoch 26/30\n",
      "7352/7352 [==============================] - 11s 2ms/step - loss: 0.0702 - acc: 0.9757 - val_loss: 0.4938 - val_acc: 0.9379\n",
      "Epoch 27/30\n",
      "7352/7352 [==============================] - 11s 2ms/step - loss: 0.0837 - acc: 0.9758 - val_loss: 0.5606 - val_acc: 0.9389\n",
      "Epoch 28/30\n",
      "7352/7352 [==============================] - 11s 2ms/step - loss: 0.0727 - acc: 0.9769 - val_loss: 0.5181 - val_acc: 0.9396\n",
      "Epoch 29/30\n",
      "7352/7352 [==============================] - 11s 2ms/step - loss: 0.0669 - acc: 0.9776 - val_loss: 0.5178 - val_acc: 0.9247\n",
      "Epoch 30/30\n",
      "7352/7352 [==============================] - 11s 2ms/step - loss: 0.0882 - acc: 0.9767 - val_loss: 0.5270 - val_acc: 0.9355\n"
     ]
    }
   ],
   "source": [
    "from keras.layers.normalization import BatchNormalization\n",
    "\n",
    "model = Sequential()\n",
    "\n",
    "model.add( Conv2D( 100, kernel_size = (3, 3), activation='relu', input_shape = inputShape ))\n",
    "model.add( Conv2D( 120, (3, 3), activation='relu' ))\n",
    "model.add( Conv2D( 160, (3, 3), activation='relu' ))\n",
    "\n",
    "\n",
    "model.add( BatchNormalization() )\n",
    "model.add( MaxPooling2D( pool_size = (2, 2) )) \n",
    "model.add( Dropout(0.25) )\n",
    "model.add( Flatten() )\n",
    "\n",
    "\n",
    "model.add( Dense( 200, activation='relu' ))\n",
    "model.add( Dropout(0.5))\n",
    "model.add( Dense( 6, activation='softmax' ))\n",
    "model.summary()\n",
    "model.compile( loss=keras.losses.categorical_crossentropy, optimizer=keras.optimizers.Adadelta(), metrics=['accuracy'] )\n",
    "history = model.fit( X_train, Y_train, batch_size=batch_size, epochs=epochs, verbose=1, validation_data=(X_test, Y_test) )"
   ]
  },
  {
   "cell_type": "code",
   "execution_count": 93,
   "metadata": {
    "colab": {
     "base_uri": "https://localhost:8080/",
     "height": 283
    },
    "colab_type": "code",
    "id": "9I9Cs_qAPbaQ",
    "outputId": "bd9d00b8-31ab-46d1-f636-503746e0fed8"
   },
   "outputs": [
    {
     "data": {
      "image/png": "[encoded data removed]",
      "text/plain": [
       "<Figure size 432x288 with 1 Axes>"
      ]
     },
     "metadata": {
      "tags": []
     },
     "output_type": "display_data"
    }
   ],
   "source": [
    "fig,ax = plt.subplots(1,1)\n",
    "ax.set_xlabel('epoch') ; ax.set_ylabel('Categorical Crossentropy Loss')\n",
    "x = list(range(1,epochs+1))\n",
    "vy = history.history['val_loss']\n",
    "ty = history.history['loss']\n",
    "plt_dynamic(x, vy, ty, ax)"
   ]
  },
  {
   "cell_type": "markdown",
   "metadata": {},
   "source": [
    "## 3 LAYER CNN:"
   ]
  },
  {
   "cell_type": "markdown",
   "metadata": {},
   "source": [
    " ### ARCHITECTURE  6:"
   ]
  },
  {
   "cell_type": "code",
   "execution_count": 94,
   "metadata": {
    "colab": {
     "base_uri": "https://localhost:8080/",
     "height": 1000
    },
    "colab_type": "code",
    "id": "S3LvDUHzZPoT",
    "outputId": "03fde833-ce05-4741-8b7b-25c56bfe4c0d"
   },
   "outputs": [
    {
     "name": "stdout",
     "output_type": "stream",
     "text": [
      "Model: \"sequential_36\"\n",
      "_________________________________________________________________\n",
      "Layer (type)                 Output Shape              Param #   \n",
      "=================================================================\n",
      "conv2d_98 (Conv2D)           (None, 126, 7, 100)       1000      \n",
      "_________________________________________________________________\n",
      "dropout_89 (Dropout)         (None, 126, 7, 100)       0         \n",
      "_________________________________________________________________\n",
      "conv2d_99 (Conv2D)           (None, 124, 5, 120)       108120    \n",
      "_________________________________________________________________\n",
      "batch_normalization_58 (Batc (None, 124, 5, 120)       480       \n",
      "_________________________________________________________________\n",
      "dropout_90 (Dropout)         (None, 124, 5, 120)       0         \n",
      "_________________________________________________________________\n",
      "conv2d_100 (Conv2D)          (None, 122, 3, 160)       172960    \n",
      "_________________________________________________________________\n",
      "batch_normalization_59 (Batc (None, 122, 3, 160)       640       \n",
      "_________________________________________________________________\n",
      "max_pooling2d_32 (MaxPooling (None, 61, 1, 160)        0         \n",
      "_________________________________________________________________\n",
      "dropout_91 (Dropout)         (None, 61, 1, 160)        0         \n",
      "_________________________________________________________________\n",
      "flatten_29 (Flatten)         (None, 9760)              0         \n",
      "_________________________________________________________________\n",
      "dense_58 (Dense)             (None, 200)               1952200   \n",
      "_________________________________________________________________\n",
      "dropout_92 (Dropout)         (None, 200)               0         \n",
      "_________________________________________________________________\n",
      "dense_59 (Dense)             (None, 6)                 1206      \n",
      "=================================================================\n",
      "Total params: 2,236,606\n",
      "Trainable params: 2,236,046\n",
      "Non-trainable params: 560\n",
      "_________________________________________________________________\n",
      "Train on 7352 samples, validate on 2947 samples\n",
      "Epoch 1/30\n",
      "7352/7352 [==============================] - 21s 3ms/step - loss: 0.9986 - acc: 0.7119 - val_loss: 0.4197 - val_acc: 0.8680\n",
      "Epoch 2/30\n",
      "7352/7352 [==============================] - 14s 2ms/step - loss: 0.3212 - acc: 0.8891 - val_loss: 0.5357 - val_acc: 0.8880\n",
      "Epoch 3/30\n",
      "7352/7352 [==============================] - 14s 2ms/step - loss: 0.2304 - acc: 0.9173 - val_loss: 0.4055 - val_acc: 0.9002\n",
      "Epoch 4/30\n",
      "7352/7352 [==============================] - 14s 2ms/step - loss: 0.1897 - acc: 0.9295 - val_loss: 0.3213 - val_acc: 0.9203\n",
      "Epoch 5/30\n",
      "7352/7352 [==============================] - 14s 2ms/step - loss: 0.1883 - acc: 0.9310 - val_loss: 0.3536 - val_acc: 0.9175\n",
      "Epoch 6/30\n",
      "7352/7352 [==============================] - 14s 2ms/step - loss: 0.1766 - acc: 0.9355 - val_loss: 0.4513 - val_acc: 0.9094\n",
      "Epoch 7/30\n",
      "7352/7352 [==============================] - 14s 2ms/step - loss: 0.1691 - acc: 0.9381 - val_loss: 0.3661 - val_acc: 0.9162\n",
      "Epoch 8/30\n",
      "7352/7352 [==============================] - 14s 2ms/step - loss: 0.1567 - acc: 0.9414 - val_loss: 0.4204 - val_acc: 0.9175\n",
      "Epoch 9/30\n",
      "7352/7352 [==============================] - 14s 2ms/step - loss: 0.1537 - acc: 0.9436 - val_loss: 0.4928 - val_acc: 0.9070\n",
      "Epoch 10/30\n",
      "7352/7352 [==============================] - 14s 2ms/step - loss: 0.1573 - acc: 0.9456 - val_loss: 0.2097 - val_acc: 0.9369\n",
      "Epoch 11/30\n",
      "7352/7352 [==============================] - 14s 2ms/step - loss: 0.1643 - acc: 0.9457 - val_loss: 0.2648 - val_acc: 0.9338\n",
      "Epoch 12/30\n",
      "7352/7352 [==============================] - 14s 2ms/step - loss: 0.1439 - acc: 0.9489 - val_loss: 0.2408 - val_acc: 0.9281\n",
      "Epoch 13/30\n",
      "7352/7352 [==============================] - 14s 2ms/step - loss: 0.1481 - acc: 0.9487 - val_loss: 0.3421 - val_acc: 0.8968\n",
      "Epoch 14/30\n",
      "7352/7352 [==============================] - 14s 2ms/step - loss: 0.1400 - acc: 0.9521 - val_loss: 0.2815 - val_acc: 0.9291\n",
      "Epoch 15/30\n",
      "7352/7352 [==============================] - 14s 2ms/step - loss: 0.1235 - acc: 0.9561 - val_loss: 0.2589 - val_acc: 0.9393\n",
      "Epoch 16/30\n",
      "7352/7352 [==============================] - 14s 2ms/step - loss: 0.1296 - acc: 0.9569 - val_loss: 0.2776 - val_acc: 0.9396\n",
      "Epoch 17/30\n",
      "7352/7352 [==============================] - 14s 2ms/step - loss: 0.1153 - acc: 0.9612 - val_loss: 0.5064 - val_acc: 0.9169\n",
      "Epoch 18/30\n",
      "7352/7352 [==============================] - 14s 2ms/step - loss: 0.1207 - acc: 0.9597 - val_loss: 0.3194 - val_acc: 0.9230\n",
      "Epoch 19/30\n",
      "7352/7352 [==============================] - 14s 2ms/step - loss: 0.1108 - acc: 0.9612 - val_loss: 0.5629 - val_acc: 0.8823\n",
      "Epoch 20/30\n",
      "7352/7352 [==============================] - 14s 2ms/step - loss: 0.1061 - acc: 0.9644 - val_loss: 0.2569 - val_acc: 0.9345\n",
      "Epoch 21/30\n",
      "7352/7352 [==============================] - 14s 2ms/step - loss: 0.1060 - acc: 0.9657 - val_loss: 0.3705 - val_acc: 0.9304\n",
      "Epoch 22/30\n",
      "7352/7352 [==============================] - 14s 2ms/step - loss: 0.1026 - acc: 0.9675 - val_loss: 0.4228 - val_acc: 0.9298\n",
      "Epoch 23/30\n",
      "7352/7352 [==============================] - 14s 2ms/step - loss: 0.1023 - acc: 0.9665 - val_loss: 0.4329 - val_acc: 0.9287\n",
      "Epoch 24/30\n",
      "7352/7352 [==============================] - 14s 2ms/step - loss: 0.1013 - acc: 0.9698 - val_loss: 0.4066 - val_acc: 0.9332\n",
      "Epoch 25/30\n",
      "7352/7352 [==============================] - 14s 2ms/step - loss: 0.0994 - acc: 0.9680 - val_loss: 0.2635 - val_acc: 0.9511\n",
      "Epoch 26/30\n",
      "7352/7352 [==============================] - 14s 2ms/step - loss: 0.0881 - acc: 0.9708 - val_loss: 0.2470 - val_acc: 0.9433\n",
      "Epoch 27/30\n",
      "7352/7352 [==============================] - 14s 2ms/step - loss: 0.0929 - acc: 0.9697 - val_loss: 0.2733 - val_acc: 0.9437\n",
      "Epoch 28/30\n",
      "7352/7352 [==============================] - 14s 2ms/step - loss: 0.0796 - acc: 0.9733 - val_loss: 0.2904 - val_acc: 0.9243\n",
      "Epoch 29/30\n",
      "7352/7352 [==============================] - 14s 2ms/step - loss: 0.0858 - acc: 0.9735 - val_loss: 0.2592 - val_acc: 0.9542\n",
      "Epoch 30/30\n",
      "7352/7352 [==============================] - 14s 2ms/step - loss: 0.0757 - acc: 0.9771 - val_loss: 0.2668 - val_acc: 0.9277\n"
     ]
    }
   ],
   "source": [
    "from keras.layers.normalization import BatchNormalization\n",
    "\n",
    "model = Sequential()\n",
    "\n",
    "model.add( Conv2D( 100, kernel_size = (3, 3), activation='relu', input_shape = inputShape ))\n",
    "model.add( Dropout(0.2) )\n",
    "model.add( Conv2D( 120, (3, 3), activation='relu' ))\n",
    "\n",
    "model.add( BatchNormalization() )\n",
    "model.add( Dropout(0.2) )\n",
    "\n",
    "model.add( Conv2D( 160, (3, 3), activation='relu' ))\n",
    "\n",
    "\n",
    "model.add( BatchNormalization() )\n",
    "model.add( MaxPooling2D( pool_size = (2, 2) )) \n",
    "model.add( Dropout(0.3) )\n",
    "model.add( Flatten() )\n",
    "\n",
    "\n",
    "model.add( Dense( 200, activation='relu' ))\n",
    "model.add( Dropout(0.5))\n",
    "model.add( Dense( 6, activation='softmax' ))\n",
    "model.summary()\n",
    "model.compile( loss=keras.losses.categorical_crossentropy, optimizer=keras.optimizers.Adadelta(), metrics=['accuracy'] )\n",
    "history = model.fit( X_train, Y_train, batch_size=batch_size, epochs=epochs, verbose=1, validation_data=(X_test, Y_test) )"
   ]
  },
  {
   "cell_type": "code",
   "execution_count": 95,
   "metadata": {
    "colab": {
     "base_uri": "https://localhost:8080/",
     "height": 283
    },
    "colab_type": "code",
    "id": "CYV7DoGUZkpD",
    "outputId": "2155bfc0-3543-4266-e321-fad642dca620"
   },
   "outputs": [
    {
     "data": {
      "image/png": "[encoded data removed]",
      "text/plain": [
       "<Figure size 432x288 with 1 Axes>"
      ]
     },
     "metadata": {
      "tags": []
     },
     "output_type": "display_data"
    }
   ],
   "source": [
    "fig,ax = plt.subplots(1,1)\n",
    "ax.set_xlabel('epoch') ; ax.set_ylabel('Categorical Crossentropy Loss')\n",
    "x = list(range(1,epochs+1))\n",
    "vy = history.history['val_loss']\n",
    "ty = history.history['loss']\n",
    "plt_dynamic(x, vy, ty, ax)"
   ]
  },
  {
   "cell_type": "code",
   "execution_count": 52,
   "metadata": {},
   "outputs": [
    {
     "name": "stdout",
     "output_type": "stream",
     "text": [
      "+-------------------------------------------------------------------------------------+\n",
      "|                              Human Activity Recognition                             |\n",
      "+--------+----------------------------+--------------+----------------+---------------+\n",
      "| Models | No of Layers               | Architecture | Train Accuracy | Test Accuracy |\n",
      "+--------+----------------------------+--------------+----------------+---------------+\n",
      "| LSTM   |  1 Layers (300-150)        |              |     94.07      | 89.89         |\n",
      "|        |                            |              |                |               |\n",
      "|        |  -----------------         |              |                |               |\n",
      "|        |                            |              |                |               |\n",
      "| CNN    |  1 Layers (300-150)        |              |     93.72      | 86.73         |\n",
      "|        |                            |              |                |               |\n",
      "|        |  2 Layers (512-264-132)    |              |     98.75      | 91.25         |\n",
      "|        |                            |              |                |               |\n",
      "|        |  3 Layers (400-350-150-75) |       1      |     96.68      | 91.48         |\n",
      "|        |                            |       2      |     97.44      | 95.18         |\n",
      "|        |                            |       3      |     97.33      | 95.28         |\n",
      "|        |                            |       4      |     97.48      | 94.03         |\n",
      "|        |                            |       5      |     97.67      | 93.55         |\n",
      "|        |                            |       6      |     97.71      | 92.77         |\n",
      "|        |                            |              |                |               |\n",
      "+--------+----------------------------+--------------+----------------+---------------+\n"
     ]
    }
   ],
   "source": [
    "x = PrettyTable([\"Models\", \"No of Layers\", \"Architecture\",\"Train Accuracy\",\"Test Accuracy\"])\n",
    "x.align[\"Models\"] = \"l\"\n",
    "x.align[\"Architecture\",\"\"] = \"l\"\n",
    "x.align[\"No of Layers\"] = \"l\"\n",
    "x.align[\"Test Accuracy\"] = \"l\"\n",
    "x.add_row([\"LSTM\",\" 1 Layers (300-150) \\n\\n -----------------\",\"\",\"94.07\",\"89.89\"])\n",
    "x.add_row([\"\\nCNN\",\" \\n 1 Layers (300-150) \\n\\n 2 Layers (512-264-132)\\n\\n 3 Layers (400-350-150-75)\",\"\\n\\n\\n\\n\\n 1\\n 2\\n 3\\n 4\\n 5\\n 6\\n\",\"\\n93.72\\n\\n98.75\\n\\n96.68\\n97.44\\n97.33\\n97.48\\n97.67\\n97.71\",\"\\n86.73\\n\\n91.25\\n\\n91.48\\n95.18\\n95.28\\n94.03\\n93.55\\n92.77\"])\n",
    "\n",
    "\n",
    "print(x.get_string(title=\"Human Activity Recognition\"))"
   ]
  },
  {
   "cell_type": "markdown",
   "metadata": {},
   "source": [
    "## Procedure:"
   ]
  },
  {
   "cell_type": "markdown",
   "metadata": {},
   "source": [
    "1] We first apply LSTM (1 layer) on the raw data. We get test accuracy of 89.89.<br>\n",
    "2] Then we apply different CNN architecture.<br>\n",
    "3] For CNN (1 Layer) we got test accuracy of 86.73. For (2 Layer) we got test accuracy of 91.25.<br>\n",
    "4] Then we apply (3 Layer) CNN architecture. We experimented with different droupout rates,filters and maxpooling.<br> \n",
    "5] At last we got the best test accuracy of 95.28."
   ]
  },
  {
   "cell_type": "code",
   "execution_count": null,
   "metadata": {},
   "outputs": [],
   "source": []
  }
 ],
 "metadata": {
  "accelerator": "GPU",
  "colab": {
   "name": "Untitled4.ipynb",
   "provenance": []
  },
  "kernelspec": {
   "display_name": "Python 3",
   "language": "python",
   "name": "python3"
  },
  "language_info": {
   "codemirror_mode": {
    "name": "ipython",
    "version": 3
   },
   "file_extension": ".py",
   "mimetype": "text/x-python",
   "name": "python",
   "nbconvert_exporter": "python",
   "pygments_lexer": "ipython3",
   "version": "3.6.5"
  }
 },
 "nbformat": 4,
 "nbformat_minor": 1
}
